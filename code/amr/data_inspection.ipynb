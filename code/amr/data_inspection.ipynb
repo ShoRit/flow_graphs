{
 "cells": [
  {
   "cell_type": "code",
   "execution_count": 1,
   "metadata": {},
   "outputs": [],
   "source": [
    "from collections import defaultdict\n",
    "import json\n",
    "from pprint import pprint\n",
    "\n",
    "import dill\n",
    "from tqdm.auto import tqdm"
   ]
  },
  {
   "cell_type": "code",
   "execution_count": 2,
   "metadata": {},
   "outputs": [],
   "source": [
    "datasets = [\"risec\", \"japflow\", \"chemu\", \"mscorpus\"]\n",
    "splits = [\"train\", \"dev\", \"test\"]"
   ]
  },
  {
   "cell_type": "code",
   "execution_count": 3,
   "metadata": {},
   "outputs": [],
   "source": [
    "loaded_datasets = {}\n",
    "for dataset in datasets:\n",
    "    with open(f\"/projects/flow_graphs/data/{dataset}/data_amr.dill\", \"rb\") as f:\n",
    "        data = dill.load(f)\n",
    "        loaded_datasets[dataset] = data"
   ]
  },
  {
   "cell_type": "code",
   "execution_count": 4,
   "metadata": {},
   "outputs": [
    {
     "data": {
      "application/vnd.jupyter.widget-view+json": {
       "model_id": "56298782db914a5c81a809df67380d67",
       "version_major": 2,
       "version_minor": 0
      },
      "text/plain": [
       "  0%|          | 0/4 [00:00<?, ?it/s]"
      ]
     },
     "metadata": {},
     "output_type": "display_data"
    },
    {
     "data": {
      "application/vnd.jupyter.widget-view+json": {
       "model_id": "dc8ae3924d724d7bbc123797845a2cdd",
       "version_major": 2,
       "version_minor": 0
      },
      "text/plain": [
       "  0%|          | 0/3689 [00:00<?, ?it/s]"
      ]
     },
     "metadata": {},
     "output_type": "display_data"
    },
    {
     "data": {
      "application/vnd.jupyter.widget-view+json": {
       "model_id": "95964c820c7347cebf8bba8acdcd46ec",
       "version_major": 2,
       "version_minor": 0
      },
      "text/plain": [
       "  0%|          | 0/1689 [00:00<?, ?it/s]"
      ]
     },
     "metadata": {},
     "output_type": "display_data"
    },
    {
     "data": {
      "application/vnd.jupyter.widget-view+json": {
       "model_id": "6a52583facad422e9cfe620fde9d6733",
       "version_major": 2,
       "version_minor": 0
      },
      "text/plain": [
       "  0%|          | 0/2213 [00:00<?, ?it/s]"
      ]
     },
     "metadata": {},
     "output_type": "display_data"
    },
    {
     "data": {
      "application/vnd.jupyter.widget-view+json": {
       "model_id": "827be8c7517149458114a845be89d29b",
       "version_major": 2,
       "version_minor": 0
      },
      "text/plain": [
       "  0%|          | 0/13958 [00:00<?, ?it/s]"
      ]
     },
     "metadata": {},
     "output_type": "display_data"
    },
    {
     "data": {
      "application/vnd.jupyter.widget-view+json": {
       "model_id": "3f83e662173e4c189bcf07a5c37523e7",
       "version_major": 2,
       "version_minor": 0
      },
      "text/plain": [
       "  0%|          | 0/1745 [00:00<?, ?it/s]"
      ]
     },
     "metadata": {},
     "output_type": "display_data"
    },
    {
     "data": {
      "application/vnd.jupyter.widget-view+json": {
       "model_id": "a7714b737fd540c78f2070f2a2bfb756",
       "version_major": 2,
       "version_minor": 0
      },
      "text/plain": [
       "  0%|          | 0/1745 [00:00<?, ?it/s]"
      ]
     },
     "metadata": {},
     "output_type": "display_data"
    },
    {
     "data": {
      "application/vnd.jupyter.widget-view+json": {
       "model_id": "617363ab96044839a91b06464357ffdb",
       "version_major": 2,
       "version_minor": 0
      },
      "text/plain": [
       "  0%|          | 0/11411 [00:00<?, ?it/s]"
      ]
     },
     "metadata": {},
     "output_type": "display_data"
    },
    {
     "data": {
      "application/vnd.jupyter.widget-view+json": {
       "model_id": "e0452f0661ad4399b1c4d102a6e04f5f",
       "version_major": 2,
       "version_minor": 0
      },
      "text/plain": [
       "  0%|          | 0/2885 [00:00<?, ?it/s]"
      ]
     },
     "metadata": {},
     "output_type": "display_data"
    },
    {
     "data": {
      "application/vnd.jupyter.widget-view+json": {
       "model_id": "35769b6de04e4c5e9e2b89de1a9d8951",
       "version_major": 2,
       "version_minor": 0
      },
      "text/plain": [
       "  0%|          | 0/3332 [00:00<?, ?it/s]"
      ]
     },
     "metadata": {},
     "output_type": "display_data"
    },
    {
     "data": {
      "application/vnd.jupyter.widget-view+json": {
       "model_id": "dbde80aa9c084729b5f094f454990c6c",
       "version_major": 2,
       "version_minor": 0
      },
      "text/plain": [
       "  0%|          | 0/12330 [00:00<?, ?it/s]"
      ]
     },
     "metadata": {},
     "output_type": "display_data"
    },
    {
     "data": {
      "application/vnd.jupyter.widget-view+json": {
       "model_id": "72e875440d5349bfa9d5050e2592afc5",
       "version_major": 2,
       "version_minor": 0
      },
      "text/plain": [
       "  0%|          | 0/2287 [00:00<?, ?it/s]"
      ]
     },
     "metadata": {},
     "output_type": "display_data"
    },
    {
     "data": {
      "application/vnd.jupyter.widget-view+json": {
       "model_id": "f0189bf675144efe891c5aded4d294d5",
       "version_major": 2,
       "version_minor": 0
      },
      "text/plain": [
       "  0%|          | 0/3782 [00:00<?, ?it/s]"
      ]
     },
     "metadata": {},
     "output_type": "display_data"
    },
    {
     "data": {
      "text/plain": [
       "{'risec': defaultdict(<function __main__.<dictcomp>.<lambda>()>,\n",
       "             {'instances': 7591,\n",
       "              'invalid': 1751,\n",
       "              'n2_missing': 1261,\n",
       "              'n1_missing': 1207,\n",
       "              'both_missing': 717}),\n",
       " 'japflow': defaultdict(<function __main__.<dictcomp>.<lambda>()>,\n",
       "             {'instances': 17448,\n",
       "              'invalid': 1440,\n",
       "              'n2_missing': 938,\n",
       "              'n1_missing': 836,\n",
       "              'both_missing': 334}),\n",
       " 'chemu': defaultdict(<function __main__.<dictcomp>.<lambda>()>,\n",
       "             {'instances': 17628,\n",
       "              'invalid': 4884,\n",
       "              'n2_missing': 4499,\n",
       "              'n1_missing': 1383,\n",
       "              'both_missing': 998}),\n",
       " 'mscorpus': defaultdict(<function __main__.<dictcomp>.<lambda>()>,\n",
       "             {'instances': 18399,\n",
       "              'invalid': 8085,\n",
       "              'n1_missing': 4754,\n",
       "              'n2_missing': 6002,\n",
       "              'both_missing': 2671})}"
      ]
     },
     "execution_count": 4,
     "metadata": {},
     "output_type": "execute_result"
    }
   ],
   "source": [
    "amr_counts = {dataset: defaultdict(lambda: 0) for dataset in datasets}\n",
    "\n",
    "for dataset in tqdm(datasets):\n",
    "    data = loaded_datasets[dataset]\n",
    "    for split in splits:\n",
    "        for instance in tqdm(data[split][\"rels\"]):\n",
    "            amr_data = instance[\"amr_data\"]\n",
    "            n1_missing = amr_data.n1_mask.sum().item() == 0\n",
    "            n2_missing = amr_data.n2_mask.sum().item() == 0\n",
    "\n",
    "            amr_counts[dataset][\"instances\"] += 1\n",
    "            if n1_missing or n2_missing:\n",
    "                amr_counts[dataset][\"invalid\"] += 1\n",
    "            if n1_missing:\n",
    "                amr_counts[dataset][\"n1_missing\"] += 1\n",
    "            if n2_missing:\n",
    "                amr_counts[dataset][\"n2_missing\"] += 1\n",
    "            if n1_missing and n2_missing:\n",
    "                amr_counts[dataset][\"both_missing\"] += 1\n",
    "\n",
    "            \n",
    "amr_counts"
   ]
  },
  {
   "cell_type": "code",
   "execution_count": 5,
   "metadata": {},
   "outputs": [
    {
     "name": "stdout",
     "output_type": "stream",
     "text": [
      "{\n",
      "    \"risec\": {\n",
      "        \"instances\": 7591,\n",
      "        \"invalid\": 1751,\n",
      "        \"n2_missing\": 1261,\n",
      "        \"n1_missing\": 1207,\n",
      "        \"both_missing\": 717\n",
      "    },\n",
      "    \"japflow\": {\n",
      "        \"instances\": 17448,\n",
      "        \"invalid\": 1440,\n",
      "        \"n2_missing\": 938,\n",
      "        \"n1_missing\": 836,\n",
      "        \"both_missing\": 334\n",
      "    },\n",
      "    \"chemu\": {\n",
      "        \"instances\": 17628,\n",
      "        \"invalid\": 4884,\n",
      "        \"n2_missing\": 4499,\n",
      "        \"n1_missing\": 1383,\n",
      "        \"both_missing\": 998\n",
      "    },\n",
      "    \"mscorpus\": {\n",
      "        \"instances\": 18399,\n",
      "        \"invalid\": 8085,\n",
      "        \"n1_missing\": 4754,\n",
      "        \"n2_missing\": 6002,\n",
      "        \"both_missing\": 2671\n",
      "    }\n",
      "}\n"
     ]
    }
   ],
   "source": [
    "print(json.dumps(amr_counts, indent=4))"
   ]
  }
 ],
 "metadata": {
  "kernelspec": {
   "display_name": "Python 3.7.13 ('amr')",
   "language": "python",
   "name": "python3"
  },
  "language_info": {
   "codemirror_mode": {
    "name": "ipython",
    "version": 3
   },
   "file_extension": ".py",
   "mimetype": "text/x-python",
   "name": "python",
   "nbconvert_exporter": "python",
   "pygments_lexer": "ipython3",
   "version": "3.7.13"
  },
  "orig_nbformat": 4,
  "vscode": {
   "interpreter": {
    "hash": "6704d32e6c0a7cb18c31e26ad2d6dc79eb49d8ba9199dbba6bc9f1d50c5263da"
   }
  }
 },
 "nbformat": 4,
 "nbformat_minor": 2
}
