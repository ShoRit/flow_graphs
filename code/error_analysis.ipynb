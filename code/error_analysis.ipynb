{
 "cells": [
  {
   "cell_type": "code",
   "execution_count": 1,
   "metadata": {},
   "outputs": [],
   "source": [
    "from helper import *\n",
    "import spacy;\n",
    "nlp = spacy.load(\"en_core_sci_md\")\n",
    "\n",
    "japflow_data = json.load(open('../data/japflow/all.json'))\n",
    "risec_data   = json.load(open('../data/risec/train.json'))"
   ]
  },
  {
   "cell_type": "markdown",
   "metadata": {},
   "source": [
    "## Vocabulary Overlap Mismatch"
   ]
  },
  {
   "cell_type": "code",
   "execution_count": 2,
   "metadata": {},
   "outputs": [
    {
     "name": "stdout",
     "output_type": "stream",
     "text": [
      "0.5647977941176471 0.822380106571936\n"
     ]
    }
   ],
   "source": [
    "risec_vocab, japflow_vocab, risec_ent_vocab, japflow_ent_vocab  = ddict(int), ddict(int), ddict(int), ddict(int) \n",
    "\n",
    "for elem in japflow_data:\n",
    "    words = [x.text.lower() for x in nlp(elem['text'])]\n",
    "    for word in words:\n",
    "        japflow_vocab[word]         +=1\n",
    "\n",
    "for elem in risec_data:\n",
    "    words = [x.text.lower() for x in nlp(elem['text'])]\n",
    "    for word in words:\n",
    "        risec_vocab[word]           +=1    \n",
    "\n",
    "for elem in japflow_data:\n",
    "    anns = elem['anns']\n",
    "    for ann in anns:\n",
    "        japflow_ent_vocab[ann['word'].lower()]+=1\n",
    "\n",
    "for elem in risec_data:\n",
    "    anns = elem['anns']\n",
    "    for ann in anns:\n",
    "        risec_ent_vocab[ann['word'].lower()]+=1\n",
    "\n",
    "risec_vocab_set     = set(risec_vocab.keys())\n",
    "japflow_vocab_set   = set(japflow_vocab.keys())\n",
    "risec_ent_set       = set(risec_ent_vocab.keys())\n",
    "japflow_ent_set     = set(japflow_ent_vocab.keys())\n",
    "\n",
    "oov_japflow         = len(japflow_vocab_set - risec_vocab_set)/len(japflow_vocab_set)\n",
    "oov_japflow_ent     = len(japflow_ent_set - risec_ent_set)/len(japflow_ent_set)\n",
    "\n",
    "print(oov_japflow, oov_japflow_ent)"
   ]
  },
  {
   "cell_type": "markdown",
   "metadata": {},
   "source": [
    "## Sentence Length Distribution"
   ]
  },
  {
   "cell_type": "code",
   "execution_count": 3,
   "metadata": {},
   "outputs": [],
   "source": [
    "import seaborn as sns\n",
    "import matplotlib.pyplot as plt\n",
    "sns.set(font_scale=1.2)\n",
    "\n",
    "risec_sent_dict, japflow_sent_dict = ddict(int), ddict(int)\n",
    "tot_risec_sents, tot_japflow_sents = 0,0\n",
    "for elem in risec_data:\n",
    "    sents = [x for x in nlp(elem['text']).sents]\n",
    "    for sent in sents:\n",
    "        risec_sent_dict[min(len(sent),40)] +=1\n",
    "        tot_risec_sents            +=1\n",
    "\n",
    "for elem in japflow_data:\n",
    "    sents = [x for x in nlp(elem['text']).sents]\n",
    "    for sent in sents:\n",
    "        japflow_sent_dict[min(len(sent),40)] +=1\n",
    "        tot_japflow_sents            +=1\n",
    "\n",
    "sent_dict = ddict(list)\n",
    "for elem in risec_sent_dict:\n",
    "    sent_dict['length'].append(elem)\n",
    "    sent_dict['prop'].append(risec_sent_dict[elem]/tot_risec_sents)\n",
    "    sent_dict['data'].append('risec')\n",
    "\n",
    "for elem in japflow_sent_dict:\n",
    "    sent_dict['length'].append(elem)\n",
    "    sent_dict['prop'].append(japflow_sent_dict[elem]/tot_japflow_sents)\n",
    "    sent_dict['data'].append('japflow')\n",
    "\n",
    "sent_df = pd.DataFrame(sent_dict)\n"
   ]
  },
  {
   "cell_type": "code",
   "execution_count": 4,
   "metadata": {},
   "outputs": [
    {
     "data": {
      "image/png": "[encoded data removed]",
      "text/plain": [
       "<Figure size 432x288 with 1 Axes>"
      ]
     },
     "metadata": {},
     "output_type": "display_data"
    }
   ],
   "source": [
    "sns.lineplot(data= sent_df, x='length',y='prop', hue='data')\n",
    "plt.show()"
   ]
  },
  {
   "cell_type": "markdown",
   "metadata": {},
   "source": [
    "## Distribution of the dependency links between entities"
   ]
  },
  {
   "cell_type": "code",
   "execution_count": 24,
   "metadata": {},
   "outputs": [],
   "source": [
    "risec_rels \t\t\t\t\t\t\t= \tload_dill(f'../data/risec/data.dill')['train']['rels']\n",
    "japflow_rels \t\t\t\t\t\t= \tload_dill(f'../data/japflow/data.dill')['all']['rels']"
   ]
  },
  {
   "cell_type": "code",
   "execution_count": 13,
   "metadata": {},
   "outputs": [
    {
     "name": "stderr",
     "output_type": "stream",
     "text": [
      "100%|██████████| 3689/3689 [00:35<00:00, 103.02it/s]\n"
     ]
    }
   ],
   "source": [
    "import networkx as nx\n",
    "risec_min_path_dict                 = ddict(int)\n",
    "\n",
    "for rel in tqdm(risec_rels):\n",
    "    org_toks, toks_range            = rel['org_toks'], rel['tok_range']\n",
    "    sent                            = org_toks[0]\n",
    "    for i in range(1, len(org_toks)):\n",
    "        diff                        = toks_range[i][0] - toks_range[i-1][1]\n",
    "        for j in range(diff): sent+= ' '\n",
    "        sent                        +=org_toks[i]\n",
    "    obj1_start, obj1_end, obj1_text = rel['span_info'][0], rel['span_info'][1],rel['span_info'][2]\n",
    "    obj2_start, obj2_end, obj2_text = rel['span_info'][4], rel['span_info'][5],rel['span_info'][6]\n",
    "    \n",
    "    doc                         = nlp(sent)\n",
    "    src_ents, tgt_ents, edges   = [],[],[]\n",
    "    \n",
    "    for token in doc:\n",
    "        if token.pos_ in ['DET','CONJ','SYM']: continue\n",
    "        if token.text in obj1_text: src_ents.append(token.text)\n",
    "        if token.text in obj2_text: tgt_ents.append(token.text)\n",
    "        for child in token.children:\n",
    "            edges.append(('{0}'.format(token.text),'{0}'.format(child.text)))\n",
    "    \n",
    "    graph = nx.Graph(edges)\n",
    "    min_path= len(org_toks)\n",
    "    \n",
    "    for src in src_ents:\n",
    "        for tgt in tgt_ents:\n",
    "            try:\n",
    "                min_path = min(min_path, nx.shortest_path_length(graph, source=src, target=tgt))    \n",
    "            except Exception as e:\n",
    "                continue\n",
    "    \n",
    "    risec_min_path_dict[min_path]+=1\n"
   ]
  },
  {
   "cell_type": "code",
   "execution_count": 15,
   "metadata": {},
   "outputs": [
    {
     "name": "stderr",
     "output_type": "stream",
     "text": [
      "100%|██████████| 15861/15861 [02:51<00:00, 92.28it/s] \n"
     ]
    }
   ],
   "source": [
    "japflow_min_path_dict                 = ddict(int)\n",
    "\n",
    "for rel in tqdm(japflow_rels):\n",
    "    org_toks, toks_range            = rel['org_toks'], rel['tok_range']\n",
    "    sent                            = org_toks[0]\n",
    "    for i in range(1, len(org_toks)):\n",
    "        diff                        = toks_range[i][0] - toks_range[i-1][1]\n",
    "        for j in range(diff): sent+= ' '\n",
    "        sent                        +=org_toks[i]\n",
    "    obj1_start, obj1_end, obj1_text = rel['span_info'][0], rel['span_info'][1],rel['span_info'][2]\n",
    "    obj2_start, obj2_end, obj2_text = rel['span_info'][4], rel['span_info'][5],rel['span_info'][6]\n",
    "    \n",
    "    doc                         = nlp(sent)\n",
    "    src_ents, tgt_ents, edges   = [],[],[]\n",
    "    \n",
    "    for token in doc:\n",
    "        if token.pos_ in ['DET','CONJ','SYM']: continue\n",
    "        if token.text in obj1_text: src_ents.append(token.text)\n",
    "        if token.text in obj2_text: tgt_ents.append(token.text)\n",
    "        for child in token.children:\n",
    "            edges.append(('{0}'.format(token.text),'{0}'.format(child.text)))\n",
    "    \n",
    "    graph = nx.Graph(edges)\n",
    "    min_path= len(org_toks)\n",
    "    \n",
    "    for src in src_ents:\n",
    "        for tgt in tgt_ents:\n",
    "            try:\n",
    "                min_path = min(min_path, nx.shortest_path_length(graph, source=src, target=tgt))    \n",
    "            except Exception as e:\n",
    "                continue\n",
    "    japflow_min_path_dict[min_path]+=1\n"
   ]
  },
  {
   "cell_type": "code",
   "execution_count": 25,
   "metadata": {},
   "outputs": [
    {
     "data": {
      "image/png": "[encoded data removed]",
      "text/plain": [
       "<Figure size 432x288 with 1 Axes>"
      ]
     },
     "metadata": {},
     "output_type": "display_data"
    }
   ],
   "source": [
    "risec_deps      = np.sum([risec_min_path_dict[elem] for elem in risec_min_path_dict])\n",
    "japflow_deps    = np.sum([japflow_min_path_dict[elem] for elem in japflow_min_path_dict])\n",
    "\n",
    "dep_dict        = ddict(list)\n",
    "\n",
    "for path in risec_min_path_dict:\n",
    "    dep_dict['length'].append(min(path,7))\n",
    "    dep_dict['prop'].append(risec_min_path_dict[path]/risec_deps)\n",
    "    dep_dict['data'].append('risec')\n",
    "\n",
    "for path in japflow_min_path_dict:\n",
    "    dep_dict['length'].append(min(path,7))\n",
    "    dep_dict['prop'].append(japflow_min_path_dict[path]/japflow_deps)\n",
    "    dep_dict['data'].append('japflow')\n",
    "\n",
    "dep_df          = pd.DataFrame(dep_dict)\n",
    "\n",
    "sns.lineplot(data= dep_df, x='length',y='prop', hue='data')\n",
    "\n",
    "plt.show()    "
   ]
  },
  {
   "cell_type": "code",
   "execution_count": 29,
   "metadata": {},
   "outputs": [
    {
     "name": "stderr",
     "output_type": "stream",
     "text": [
      "100%|██████████| 3689/3689 [00:00<00:00, 788422.29it/s]\n",
      "100%|██████████| 15861/15861 [00:00<00:00, 364785.08it/s]"
     ]
    },
    {
     "name": "stdout",
     "output_type": "stream",
     "text": [
      "12) When inserted it should come out clean. (589, 593, 'come', 'AC', 579, 581, 'it', 'TOOL', 'Arg_PAG')\n",
      "4) Let them warm up for about 90 seconds. (183, 190, 'warm up', 'AC', 178, 182, 'them', 'FOOD', 'Arg_PAG')\n",
      "8) Let them cool for 2 minutes before removing from cookie sheets to cool completely. (451, 455, 'cool', 'AC', 446, 450, 'them', 'FOOD', 'Arg_PAG')\n",
      "9) Beat on low speed for 2 minutes. 10) Let stand for 2-3 minutes. (452, 457, 'stand', 'AC', 411, 415, 'Beat', 'AC', 'Arg_PAG')\n",
      "3) Remove from the heat and let stand at room temperature until cold, several hours. (158, 163, 'stand', 'AC', 129, 135, 'Remove', 'AC', 'Arg_PAG')\n",
      "7) Overbeaten egg whites lose volume and deflate when folded into other ingredients. (350, 354, 'lose', 'AC', 328, 349, 'Overbeaten egg whites', 'FOOD', 'Arg_PAG')\n",
      "7) Overbeaten egg whites lose volume and deflate when folded into other ingredients. (366, 373, 'deflate', 'AC', 328, 349, 'Overbeaten egg whites', 'FOOD', 'Arg_PAG')\n",
      "8) Be absolutely sure not a particle of grease or egg yolk gets into the whites. (469, 473, 'gets', 'AC', 432, 468, 'not a particle of grease or egg yolk', 'FOOD', 'Arg_PAG')\n",
      "3) Let the almonds soak in water for about 5 minutes, then drain and peel. (97, 101, 'soak', 'AC', 85, 96, 'the almonds', 'FOOD', 'Arg_PAG')\n",
      "8) Add 1 teaspoon lemon juice, reduce heat to low, and let it simmer until syrupy, about 30 to 40 minutes. (550, 556, 'simmer', 'AC', 547, 549, 'it', 'FOOD', 'Arg_PAG')\n",
      "\n",
      "\n",
      "****************************\n",
      "\n",
      "\n",
      "Let the yeast dissolve and foam for 10 minutes. (74, 79, 'yeast', 'F', 80, 88, 'dissolve', 'Af', 'agent')\n",
      "Let cool for 10 minutes. (336, 339, 'Let', 'Ac', 340, 344, 'cool', 'Af', 'agent')\n",
      "Let cool slightly, then stir in the vinegar and sugar. (424, 427, 'Let', 'Ac', 428, 432, 'cool', 'Af', 'agent')\n",
      "Let stand 10 minutes. (196, 199, 'Let', 'Ac', 200, 205, 'stand', 'Af', 'agent')\n",
      "Let the lasagne rest for ten minutes before serving. (1139, 1146, 'lasagne', 'F', 1147, 1151, 'rest', 'Af', 'agent')\n",
      "Let it stand until cabbage wilts, at least 1 hour and up to 4 hours. (84, 87, 'Let', 'Ac', 91, 96, 'stand', 'Af', 'agent')\n",
      "Let it stand until cabbage wilts, at least 1 hour and up to 4 hours. (103, 110, 'cabbage', 'F', 111, 116, 'wilts', 'Af', 'agent')\n",
      "Let cool, then squeeze the paper and drain excess water from the tofu very well. (81, 84, 'Let', 'Ac', 85, 89, 'cool', 'Af', 'agent')\n",
      "Let the chicken marinate at least 2 hours ; overnight is best. (158, 161, 'Let', 'Ac', 174, 182, 'marinate', 'Af', 'agent')\n",
      "Let stand 5 to 6 minutes, until mixture is foamy. (51, 54, 'Let', 'Ac', 55, 60, 'stand', 'Af', 'agent')\n",
      "Let stand 5 to 6 minutes, until mixture is foamy. In a large bowl, mix together 1/2 of the remaining flour, remaining water, salt, oregano and butter. (83, 90, 'mixture', 'F', 94, 99, 'foamy', 'Sf', 'agent')\n",
      "Let stand at room temperature for 15 minutes, stirring occasionally. (131, 134, 'Let', 'Ac', 135, 140, 'stand', 'Af', 'agent')\n",
      "Let stand for another 30 minutes at room temperature. (236, 239, 'Let', 'Ac', 240, 245, 'stand', 'Af', 'agent')\n",
      "Let rest for fives minutes, then allow to cool fully on a wire rack. (424, 427, 'Let', 'Ac', 428, 432, 'rest', 'Af', 'agent')\n",
      "Let rest for fives minutes, then allow to cool fully on a wire rack. (457, 462, 'allow', 'Ac', 466, 470, 'cool', 'Af', 'agent')\n",
      "Let cool in pan for 10 minutes, then turn out onto a wire rack and cool completely. (422, 425, 'Let', 'Ac', 426, 430, 'cool', 'Af', 'agent')\n"
     ]
    },
    {
     "name": "stderr",
     "output_type": "stream",
     "text": [
      "\n"
     ]
    }
   ],
   "source": [
    "\n",
    "for rel in tqdm(risec_rels):\n",
    "    if rel['span_info'][-1] != 'Arg_PAG': continue\n",
    "    org_toks, toks_range            = rel['org_toks'], rel['tok_range']\n",
    "    sent                            = org_toks[0]\n",
    "    for i in range(1, len(org_toks)):\n",
    "        diff                        = toks_range[i][0] - toks_range[i-1][1]\n",
    "        for j in range(diff): sent+= ' '\n",
    "        sent                        +=org_toks[i]\n",
    "    obj1_start, obj1_end, obj1_text = rel['span_info'][0], rel['span_info'][1],rel['span_info'][2]\n",
    "    obj2_start, obj2_end, obj2_text = rel['span_info'][4], rel['span_info'][5],rel['span_info'][6]    \n",
    "    print(sent, rel['span_info'])\n",
    "\n",
    "print('\\n\\n****************************\\n\\n')\n",
    "for rel in tqdm(japflow_rels):\n",
    "    if rel['span_info'][-1] != 'agent': continue\n",
    "    org_toks, toks_range            = rel['org_toks'], rel['tok_range']\n",
    "    sent                            = org_toks[0]\n",
    "    for i in range(1, len(org_toks)):\n",
    "        diff                        = toks_range[i][0] - toks_range[i-1][1]\n",
    "        for j in range(diff): sent+= ' '\n",
    "        sent                        +=org_toks[i]\n",
    "    obj1_start, obj1_end, obj1_text = rel['span_info'][0], rel['span_info'][1],rel['span_info'][2]\n",
    "    obj2_start, obj2_end, obj2_text = rel['span_info'][4], rel['span_info'][5],rel['span_info'][6]    \n",
    "    if sent.startswith('Let'):\n",
    "        print(sent, rel['span_info'])\n",
    "    "
   ]
  },
  {
   "cell_type": "code",
   "execution_count": null,
   "metadata": {},
   "outputs": [],
   "source": [
    "for rel in tqdm(risec_rels):\n",
    "    if rel['span_info'][-1] != 'Arg_': continue\n",
    "    org_toks, toks_range            = rel['org_toks'], rel['tok_range']\n",
    "    sent                            = org_toks[0]\n",
    "    for i in range(1, len(org_toks)):\n",
    "        diff                        = toks_range[i][0] - toks_range[i-1][1]\n",
    "        for j in range(diff): sent+= ' '\n",
    "        sent                        +=org_toks[i]\n",
    "    obj1_start, obj1_end, obj1_text = rel['span_info'][0], rel['span_info'][1],rel['span_info'][2]\n",
    "    obj2_start, obj2_end, obj2_text = rel['span_info'][4], rel['span_info'][5],rel['span_info'][6]    \n",
    "    print(sent, rel['span_info'])\n",
    "\n",
    "print('\\n\\n****************************\\n\\n')\n",
    "for rel in tqdm(japflow_rels):\n",
    "    if rel['span_info'][-1] != 'dest': continue\n",
    "    org_toks, toks_range            = rel['org_toks'], rel['tok_range']\n",
    "    sent                            = org_toks[0]\n",
    "    for i in range(1, len(org_toks)):\n",
    "        diff                        = toks_range[i][0] - toks_range[i-1][1]\n",
    "        for j in range(diff): sent+= ' '\n",
    "        sent                        +=org_toks[i]\n",
    "    obj1_start, obj1_end, obj1_text = rel['span_info'][0], rel['span_info'][1],rel['span_info'][2]\n",
    "    obj2_start, obj2_end, obj2_text = rel['span_info'][4], rel['span_info'][5],rel['span_info'][6]    \n",
    "    if sent.startswith('Let'):\n",
    "        print(sent, rel['span_info'])\n",
    "    "
   ]
  }
 ],
 "metadata": {
  "interpreter": {
   "hash": "0ff79ce7ab5a82e056583b400e21bd22a90a6e13ced07ba22e893052421dc6ac"
  },
  "kernelspec": {
   "display_name": "Python 3.6.10 ('med_ent')",
   "language": "python",
   "name": "python3"
  },
  "language_info": {
   "codemirror_mode": {
    "name": "ipython",
    "version": 3
   },
   "file_extension": ".py",
   "mimetype": "text/x-python",
   "name": "python",
   "nbconvert_exporter": "python",
   "pygments_lexer": "ipython3",
   "version": "3.6.10"
  },
  "orig_nbformat": 4
 },
 "nbformat": 4,
 "nbformat_minor": 2
}
