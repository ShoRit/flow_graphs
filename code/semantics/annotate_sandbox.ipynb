{
 "cells": [
  {
   "cell_type": "code",
   "execution_count": 1,
   "metadata": {},
   "outputs": [],
   "source": [
    "import itertools\n",
    "import json\n",
    "import os\n",
    "import requests\n",
    "\n",
    "from nltk.tokenize import sent_tokenize\n",
    "import spacy"
   ]
  },
  {
   "cell_type": "code",
   "execution_count": 2,
   "metadata": {},
   "outputs": [],
   "source": [
    "spacy_fn = spacy.load(\"en_core_sci_md\", disable=[\"lemmatizer\", \"ner\"])"
   ]
  },
  {
   "cell_type": "code",
   "execution_count": 3,
   "metadata": {},
   "outputs": [],
   "source": [
    "ANNOTATION_SERVICE_URL = \"http://localhost:9341/predict/semantics/\""
   ]
  },
  {
   "cell_type": "code",
   "execution_count": 4,
   "metadata": {},
   "outputs": [],
   "source": [
    "def annotate_text(text, max_retries=5):\n",
    "    response = requests.get(ANNOTATION_SERVICE_URL, params={\"utterance\": text})\n",
    "    retries = 0\n",
    "    while response.status_code != 200 and retries < max_retries:\n",
    "        response = requests.get(ANNOTATION_SERVICE_URL, params={\"utterance\": text})\n",
    "        retries += 1\n",
    "    if retries >= max_retries:\n",
    "        print(text)\n",
    "        return None\n",
    "    return response.json()\n",
    "        \n",
    "    tokens = response.json()[\"tokens\"]\n",
    "    for token in tokens:\n",
    "        if token[\"label\"] is None:\n",
    "            continue\n",
    "        start_token = token[\"start\"]\n",
    "        end_token = token[\"end\"]\n",
    "        for token_idx in range(start_token, end_token + 1):\n",
    "            token_annotation = Annotation()\n",
    "            token_annotation.token_no=token_idx\n",
    "            token_annotation.vn_class=token[\"label\"]\n",
    "            token_annotation.verb=token[\"text\"]\n",
    "            return_sentence.add_annotation(token_annotation)\n",
    "    return return_sentence"
   ]
  },
  {
   "cell_type": "code",
   "execution_count": 5,
   "metadata": {},
   "outputs": [],
   "source": [
    "data_dir = \"/projects/flow_graphs/data\"\n",
    "datasets = [\"wsj\", \"risec\", \"japflow\", \"chemu\", \"mscorpus\" ]"
   ]
  },
  {
   "cell_type": "code",
   "execution_count": 6,
   "metadata": {},
   "outputs": [
    {
     "data": {
      "text/plain": [
       "{'wsj': <function __main__.<lambda>(x)>,\n",
       " 'risec': <function __main__.<lambda>(x)>,\n",
       " 'japflow': <function nltk.tokenize.sent_tokenize(text, language='english')>,\n",
       " 'chemu': <function __main__.<lambda>(x)>}"
      ]
     },
     "execution_count": 6,
     "metadata": {},
     "output_type": "execute_result"
    }
   ],
   "source": [
    "{\n",
    "    \"wsj\": lambda x: x.split(\"\\n\"),\n",
    "    \"risec\": lambda x: x.split(\"\\n\"),\n",
    "    \"japflow\": sent_tokenize,\n",
    "    \"chemu\": lambda x: [sent.text for sent in spacy_fn(x).sents]\n",
    "    \"mscorpus\": lambda x: [sent.text for sent in spacy_fn(x).sents]\n",
    "    \n",
    "}"
   ]
  },
  {
   "cell_type": "code",
   "execution_count": 7,
   "metadata": {},
   "outputs": [],
   "source": [
    "dataset = \"mscorpus\"\n",
    "\n",
    "with open(os.path.join(data_dir, dataset, \"train.json\")) as f:\n",
    "    data = json.load(f)"
   ]
  },
  {
   "cell_type": "code",
   "execution_count": 8,
   "metadata": {},
   "outputs": [
    {
     "data": {
      "text/plain": [
       "['10.1016/j.apcata.2006.05.025\\nUnusual CH4 dry reforming performance over Ni-based catalyst separated from nickel metal hydride battery waste\\nNi-MH waste used here was collected from the crucible for producing Ni-MH battery provided from Mitsui Mining and Smelting Co. Ltd., Japan.',\n",
       " 'In our previous study, Ni-based compound was successfully separated from Ni-MH waste by a series of acid and base treatments [Environ. Sci.',\n",
       " 'Technol., submitted].',\n",
       " 'Namely, Ni-MH waste of 10 g was dissolved with 2 M (mol/dm3) HCl solution of 200 ml for 24 h. Then, the dissolved transition and rare-earth metal ions were precipitated at pH 12 with 2 M NaOH solution.',\n",
       " 'The Ni component was extracted from this precipitate by treating with 7.5 M NH3 aq.',\n",
       " 'of 200 ml, through forming a Ni-ammonium complex.',\n",
       " 'After filtration, the purple filtrate was heated around 60 degC to decompose the Ni-ammonium complex and to obtain Ni(OH)2.',\n",
       " 'The sample, s-NiO, was obtained by calcination of the resulting Ni(OH)2 at 1000 degC.']"
      ]
     },
     "execution_count": 8,
     "metadata": {},
     "output_type": "execute_result"
    }
   ],
   "source": [
    "[sent.text for sent in spacy_fn(data[35][\"text\"]).sents]"
   ]
  },
  {
   "cell_type": "code",
   "execution_count": 9,
   "metadata": {},
   "outputs": [
    {
     "name": "stdout",
     "output_type": "stream",
     "text": [
      "10.1016/j.apcata.2006.05.025\n"
     ]
    },
    {
     "data": {
      "text/plain": [
       "{'tokens': [{'index': 0,\n",
       "   'isPredicate': False,\n",
       "   'isModifier': False,\n",
       "   'label': None,\n",
       "   'start': 0,\n",
       "   'end': 0,\n",
       "   'text': '10.1016 / j.apcata .2006.05.025 .',\n",
       "   'pb': None,\n",
       "   'vn': None,\n",
       "   'description': None,\n",
       "   'modifier': False,\n",
       "   'predicate': False}],\n",
       " 'props': []}"
      ]
     },
     "execution_count": 9,
     "metadata": {},
     "output_type": "execute_result"
    }
   ],
   "source": [
    "text = data[35][\"text\"].split(\"\\n\")[0]\n",
    "print(text)\n",
    "annotate_text(text)"
   ]
  },
  {
   "cell_type": "code",
   "execution_count": null,
   "metadata": {},
   "outputs": [],
   "source": []
  }
 ],
 "metadata": {
  "interpreter": {
   "hash": "c7c3bbe694572e2ad16332858b1bb7a408a910758ecfb909c604237d8a91b9a7"
  },
  "kernelspec": {
   "display_name": "Python 3.9.7 ('verbnet')",
   "language": "python",
   "name": "python3"
  },
  "language_info": {
   "codemirror_mode": {
    "name": "ipython",
    "version": 3
   },
   "file_extension": ".py",
   "mimetype": "text/x-python",
   "name": "python",
   "nbconvert_exporter": "python",
   "pygments_lexer": "ipython3",
   "version": "3.9.12"
  },
  "orig_nbformat": 4
 },
 "nbformat": 4,
 "nbformat_minor": 2
}
