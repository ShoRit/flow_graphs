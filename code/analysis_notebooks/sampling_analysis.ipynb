{
 "cells": [
  {
   "cell_type": "code",
   "execution_count": 2,
   "metadata": {},
   "outputs": [],
   "source": [
    "import sys\n",
    "sys.path[1] = '/home/sgururaj/src/flow_graphs/code/'"
   ]
  },
  {
   "cell_type": "code",
   "execution_count": 3,
   "metadata": {},
   "outputs": [],
   "source": [
    "%load_ext autoreload\n",
    "%autoreload 2"
   ]
  },
  {
   "cell_type": "code",
   "execution_count": 4,
   "metadata": {},
   "outputs": [],
   "source": [
    "from collections import defaultdict, Counter\n",
    "from collections import defaultdict as ddict\n",
    "import itertools\n",
    "import json\n",
    "import os\n",
    "import pickle\n",
    "import random\n",
    "\n",
    "import dill\n",
    "from matplotlib import pyplot as plt\n",
    "import numpy as np\n",
    "from numpy.polynomial import Polynomial\n",
    "import pandas as pd\n",
    "from sklearn.metrics import precision_recall_fscore_support\n",
    "from transformers import AutoTokenizer\n",
    "from tqdm.auto import tqdm\n",
    "import wandb\n",
    "\n",
    "from amr.inspection import get_type_paths_for_relation, gini_coefficient\n",
    "from dataloading_utils import load_deprels\n",
    "from evaluation import get_transfer_eval_filename"
   ]
  },
  {
   "cell_type": "code",
   "execution_count": 5,
   "metadata": {},
   "outputs": [],
   "source": [
    "tqdm.pandas()"
   ]
  },
  {
   "cell_type": "code",
   "execution_count": 6,
   "metadata": {},
   "outputs": [],
   "source": [
    "api = wandb.Api(timeout=30)"
   ]
  },
  {
   "cell_type": "code",
   "execution_count": 7,
   "metadata": {},
   "outputs": [],
   "source": [
    "datasets = [\"risec\", \"japflow\", \"mscorpus\"]\n",
    "FEWSHOT = 10"
   ]
  },
  {
   "cell_type": "code",
   "execution_count": 8,
   "metadata": {},
   "outputs": [
    {
     "name": "stderr",
     "output_type": "stream",
     "text": [
      "100%|██████████| 365/365 [00:00<00:00, 772802.10it/s]\n"
     ]
    }
   ],
   "source": [
    "amr_content = {}\n",
    "preprocessed_data = {}\n",
    "\n",
    "for dataset in datasets:\n",
    "    with open(f\"data/{dataset}/amr_train.pkl\", \"rb\") as f:\n",
    "        amr_content[dataset] = pickle.load(f)\n",
    "\n",
    "    with open(f\"data/{dataset}/data_amr.dill\", \"rb\") as f:\n",
    "        preprocessed_data[dataset] = dill.load(f)\n",
    "    \n",
    "\n",
    "with open(\"data/amr_rel2id.json\") as f:\n",
    "    amr_rel2id = json.load(f)\n",
    "\n",
    "amr_id2rel = {v:k for k, v in amr_rel2id.items()}\n",
    "\n",
    "deprels = load_deprels(\"data/enh_dep_rel.txt\")\n",
    "dep_id2rel = {v:k for k, v in deprels.items()}\n",
    "\n",
    "tokenizer = AutoTokenizer.from_pretrained(\"bert-base-uncased\")"
   ]
  },
  {
   "cell_type": "code",
   "execution_count": 9,
   "metadata": {},
   "outputs": [],
   "source": [
    "dataset_to_paths_info = {}\n",
    "unaggregated_paths_info = {}\n",
    "\n",
    "reverse_map = {\n",
    "    \"amr_data\": amr_id2rel,\n",
    "    \"dep_data\": dep_id2rel\n",
    "}\n",
    "\n",
    "for dataset in datasets:\n",
    "    dataset_to_paths_info[dataset] = {}\n",
    "    unaggregated_paths_info[dataset] = {}\n",
    "    for split in [\"train\", \"dev\", \"test\"]:\n",
    "        label_to_paths = {\n",
    "            \"amr_data\": defaultdict(list),\n",
    "            \"dep_data\": defaultdict(list),\n",
    "        }\n",
    "        unaggregated_paths = defaultdict(list)\n",
    "        for instance in preprocessed_data[dataset][split][\"rels\"]:\n",
    "            for graph_type in [\"amr_data\", \"dep_data\"]:\n",
    "                label = instance[\"label\"]\n",
    "                graph_data = instance[graph_type]\n",
    "                type_paths = get_type_paths_for_relation(graph_data, reverse_map[graph_type])\n",
    "                unaggregated_paths[graph_type].append((label, type_paths))\n",
    "                label_to_paths[graph_type][label].extend(type_paths)\n",
    "        dataset_to_paths_info[dataset][split] = label_to_paths\n",
    "        unaggregated_paths_info[dataset][split] = unaggregated_paths\n",
    "\n",
    "\n",
    "unigram_counters = {}\n",
    "\n",
    "for dataset in datasets:\n",
    "    unigram_counters[dataset] = {}\n",
    "    for split in [\"train\", \"dev\", \"test\"]:\n",
    "        unigram_counters[dataset][split] = {}\n",
    "        for graph_type in [\"dep_data\", \"amr_data\"]:\n",
    "            dataset_counters = {}\n",
    "            unigram_counters[dataset][split][graph_type] = dataset_counters\n",
    "            paths_info = dataset_to_paths_info[dataset][split][graph_type]\n",
    "            for label, paths in paths_info.items():\n",
    "                atomic_path_units = [tuple(path) for path in paths]\n",
    "                unigram_path_units = list(itertools.chain(*paths))\n",
    "                dataset_counters[label] = {\"unigram\": Counter(unigram_path_units), \"atomic\": Counter(atomic_path_units)}"
   ]
  },
  {
   "cell_type": "code",
   "execution_count": 1,
   "metadata": {},
   "outputs": [
    {
     "ename": "NameError",
     "evalue": "name 'unigram_counters' is not defined",
     "output_type": "error",
     "traceback": [
      "\u001b[0;31m---------------------------------------------------------------------------\u001b[0m",
      "\u001b[0;31mNameError\u001b[0m                                 Traceback (most recent call last)",
      "\u001b[0;32m/tmp/ipykernel_31364/2175399211.py\u001b[0m in \u001b[0;36m<module>\u001b[0;34m\u001b[0m\n\u001b[0;32m----> 1\u001b[0;31m \u001b[0munigram_counters\u001b[0m\u001b[0;34m[\u001b[0m\u001b[0;34m\"risec\"\u001b[0m\u001b[0;34m]\u001b[0m\u001b[0;34m[\u001b[0m\u001b[0;34m\"train\"\u001b[0m\u001b[0;34m]\u001b[0m\u001b[0;34m[\u001b[0m\u001b[0;34m\"amr_data\"\u001b[0m\u001b[0;34m]\u001b[0m\u001b[0;34m[\u001b[0m\u001b[0;34m\"ArgM_INT\"\u001b[0m\u001b[0;34m]\u001b[0m\u001b[0;34m[\u001b[0m\u001b[0;34m\"unigram\"\u001b[0m\u001b[0;34m]\u001b[0m\u001b[0;34m.\u001b[0m\u001b[0mmost_common\u001b[0m\u001b[0;34m(\u001b[0m\u001b[0;34m)\u001b[0m\u001b[0;34m\u001b[0m\u001b[0;34m\u001b[0m\u001b[0m\n\u001b[0m",
      "\u001b[0;31mNameError\u001b[0m: name 'unigram_counters' is not defined"
     ]
    }
   ],
   "source": [
    "unigram_counters[\"risec\"][\"train\"][\"amr_data\"][\"ArgM_INT\"][\"unigram\"].most_common()"
   ]
  },
  {
   "cell_type": "code",
   "execution_count": 39,
   "metadata": {},
   "outputs": [
    {
     "data": {
      "text/plain": [
       "[('targ', 214, 20520),\n",
       " ('dest', 375, 6504),\n",
       " ('other-mod', 469, 20501),\n",
       " ('f-eq', 35, 8399),\n",
       " ('agent', 38, 3253),\n",
       " ('t-eq', 136, 2186),\n",
       " ('v-tm', 3, 3005),\n",
       " ('t-comp', 304, 1774),\n",
       " ('a-eq', 49, 1308),\n",
       " ('f-part-of', 82, 5073),\n",
       " ('f-comp', 6, 1142),\n",
       " ('t-part-of', 30, 1558),\n",
       " ('f-set', 0, 219)]"
      ]
     },
     "execution_count": 39,
     "metadata": {},
     "output_type": "execute_result"
    }
   ],
   "source": [
    "[(label, d[\"unigram\"][\":location\"], sum(d[\"unigram\"].values())) for label, d in unigram_counters[\"japflow\"][\"train\"][\"amr_data\"].items()]"
   ]
  },
  {
   "cell_type": "code",
   "execution_count": 16,
   "metadata": {},
   "outputs": [
    {
     "name": "stdout",
     "output_type": "stream",
     "text": [
      "0.6490434782608696\n",
      "0.750621397792274\n"
     ]
    }
   ],
   "source": [
    "print(gini_coefficient(unigram_counters[\"mscorpus\"][\"test\"][\"dep_data\"][\"Information_Of\"]))\n",
    "print(gini_coefficient(unigram_counters[\"mscorpus\"][\"test\"][\"amr_data\"][\"Information_Of\"]))"
   ]
  },
  {
   "cell_type": "code",
   "execution_count": 17,
   "metadata": {},
   "outputs": [],
   "source": [
    "dataset_gini = {}\n",
    "for dataset in datasets:\n",
    "    dataset_gini[dataset] = {}\n",
    "    for split in [\"train\", \"dev\", \"test\"]:\n",
    "        dataset_gini[dataset][split] = {}\n",
    "        for graph_type in [\"dep_data\", \"amr_data\"]:\n",
    "            dataset_gini[dataset][split][graph_type] = {}\n",
    "            for label, counter in unigram_counters[dataset][split][graph_type].items():\n",
    "                dataset_gini[dataset][split][graph_type][label] = gini_coefficient(counter)"
   ]
  },
  {
   "cell_type": "code",
   "execution_count": 18,
   "metadata": {},
   "outputs": [],
   "source": [
    "with open(\"dataset_gini_unigram.pkl\", \"wb\") as f:\n",
    "    pickle.dump(dataset_gini, f)"
   ]
  },
  {
   "cell_type": "code",
   "execution_count": 19,
   "metadata": {},
   "outputs": [
    {
     "data": {
      "text/plain": [
       "0.562962962962963"
      ]
     },
     "execution_count": 19,
     "metadata": {},
     "output_type": "execute_result"
    }
   ],
   "source": [
    "dataset_gini[\"risec\"][\"train\"][\"amr_data\"][\"ArgM_SIM\"]"
   ]
  },
  {
   "cell_type": "code",
   "execution_count": 11,
   "metadata": {},
   "outputs": [],
   "source": [
    "filters = {\n",
    "    \"state\": \"finished\"\n",
    "}\n",
    "\n",
    "# from-scratch sweep\n",
    "sweeps = [\"masb7v5w\", \"v828yikt\", \"x6qwchbj\", \"sgk8b8c5\", \"009z7n7n\", \"masb7v5w\"]\n",
    "\n",
    "\n",
    "runs = []\n",
    "for sweep_id in sweeps:\n",
    "    sweep = api.sweep(f\"flow-graphs-cmu/narrative-flow-simplified/{sweep_id}\")\n",
    "    runs.extend(sweep.runs)"
   ]
  },
  {
   "cell_type": "code",
   "execution_count": 45,
   "metadata": {},
   "outputs": [
    {
     "data": {
      "application/vnd.jupyter.widget-view+json": {
       "model_id": "1b0bfd6b4822467f83b19662543f5cc8",
       "version_major": 2,
       "version_minor": 0
      },
      "text/plain": [
       "  0%|          | 0/252 [00:00<?, ?it/s]"
      ]
     },
     "metadata": {},
     "output_type": "display_data"
    }
   ],
   "source": [
    "df_dicts = []\n",
    "\n",
    "for run in tqdm(runs):\n",
    "    try:\n",
    "        test_f1  = run.history(keys=[\"test_f1\"], pandas=False)[0][\"test_f1\"]\n",
    "        df_dicts.append({**run.config, \"test_f1\": test_f1, \"name\": run.name})\n",
    "    except:\n",
    "        continue\n",
    "\n",
    "results_df = pd.DataFrame(df_dicts)"
   ]
  },
  {
   "cell_type": "code",
   "execution_count": 46,
   "metadata": {},
   "outputs": [
    {
     "data": {
      "text/plain": [
       "(244, 29)"
      ]
     },
     "execution_count": 46,
     "metadata": {},
     "output_type": "execute_result"
    }
   ],
   "source": [
    "results_df.shape"
   ]
  },
  {
   "cell_type": "code",
   "execution_count": 47,
   "metadata": {},
   "outputs": [
    {
     "data": {
      "text/html": [
       "<div>\n",
       "<style scoped>\n",
       "    .dataframe tbody tr th:only-of-type {\n",
       "        vertical-align: middle;\n",
       "    }\n",
       "\n",
       "    .dataframe tbody tr th {\n",
       "        vertical-align: top;\n",
       "    }\n",
       "\n",
       "    .dataframe thead th {\n",
       "        text-align: right;\n",
       "    }\n",
       "</style>\n",
       "<table border=\"1\" class=\"dataframe\">\n",
       "  <thead>\n",
       "    <tr style=\"text-align: right;\">\n",
       "      <th></th>\n",
       "      <th>name</th>\n",
       "      <th>src_dataset</th>\n",
       "      <th>tgt_dataset</th>\n",
       "      <th>case</th>\n",
       "      <th>fewshot</th>\n",
       "      <th>seed</th>\n",
       "      <th>test_f1</th>\n",
       "      <th>train_dataset_instances</th>\n",
       "    </tr>\n",
       "  </thead>\n",
       "  <tbody>\n",
       "    <tr>\n",
       "      <th>38</th>\n",
       "      <td>transfer-mscorpus-risec-fewshot_10-dep_residua...</td>\n",
       "      <td>mscorpus</td>\n",
       "      <td>risec</td>\n",
       "      <td>dep_residual</td>\n",
       "      <td>10</td>\n",
       "      <td>2</td>\n",
       "      <td>0.495249</td>\n",
       "      <td>[1633, 2997, 2387, 1298, 253, 1844, 2834, 1105...</td>\n",
       "    </tr>\n",
       "    <tr>\n",
       "      <th>39</th>\n",
       "      <td>transfer-mscorpus-risec-fewshot_10-dep_residua...</td>\n",
       "      <td>mscorpus</td>\n",
       "      <td>risec</td>\n",
       "      <td>dep_residual</td>\n",
       "      <td>10</td>\n",
       "      <td>1</td>\n",
       "      <td>0.524175</td>\n",
       "      <td>[2250, 1291, 2258, 2721, 1459, 1998, 353, 2158...</td>\n",
       "    </tr>\n",
       "    <tr>\n",
       "      <th>40</th>\n",
       "      <td>transfer-mscorpus-risec-fewshot_10-dep_residua...</td>\n",
       "      <td>mscorpus</td>\n",
       "      <td>risec</td>\n",
       "      <td>dep_residual</td>\n",
       "      <td>10</td>\n",
       "      <td>0</td>\n",
       "      <td>0.512471</td>\n",
       "      <td>[3356, 1508, 1257, 668, 265, 82, 2129, 2647, 9...</td>\n",
       "    </tr>\n",
       "    <tr>\n",
       "      <th>50</th>\n",
       "      <td>transfer-mscorpus-risec-fewshot_10-amr_residua...</td>\n",
       "      <td>mscorpus</td>\n",
       "      <td>risec</td>\n",
       "      <td>amr_residual</td>\n",
       "      <td>10</td>\n",
       "      <td>2</td>\n",
       "      <td>0.504181</td>\n",
       "      <td>[1633, 2997, 2387, 1298, 253, 1844, 2834, 1105...</td>\n",
       "    </tr>\n",
       "    <tr>\n",
       "      <th>51</th>\n",
       "      <td>transfer-mscorpus-risec-fewshot_10-amr_residua...</td>\n",
       "      <td>mscorpus</td>\n",
       "      <td>risec</td>\n",
       "      <td>amr_residual</td>\n",
       "      <td>10</td>\n",
       "      <td>1</td>\n",
       "      <td>0.498349</td>\n",
       "      <td>[2250, 1291, 2258, 2721, 1459, 1998, 353, 2158...</td>\n",
       "    </tr>\n",
       "    <tr>\n",
       "      <th>52</th>\n",
       "      <td>transfer-mscorpus-risec-fewshot_10-amr_residua...</td>\n",
       "      <td>mscorpus</td>\n",
       "      <td>risec</td>\n",
       "      <td>amr_residual</td>\n",
       "      <td>10</td>\n",
       "      <td>0</td>\n",
       "      <td>0.493979</td>\n",
       "      <td>[3356, 1508, 1257, 668, 265, 82, 2129, 2647, 9...</td>\n",
       "    </tr>\n",
       "    <tr>\n",
       "      <th>62</th>\n",
       "      <td>transfer-mscorpus-risec-fewshot_10-plaintext-c...</td>\n",
       "      <td>mscorpus</td>\n",
       "      <td>risec</td>\n",
       "      <td>plaintext</td>\n",
       "      <td>10</td>\n",
       "      <td>2</td>\n",
       "      <td>0.442507</td>\n",
       "      <td>[1633, 2997, 2387, 1298, 253, 1844, 2834, 1105...</td>\n",
       "    </tr>\n",
       "    <tr>\n",
       "      <th>64</th>\n",
       "      <td>transfer-mscorpus-risec-fewshot_10-plaintext-c...</td>\n",
       "      <td>mscorpus</td>\n",
       "      <td>risec</td>\n",
       "      <td>plaintext</td>\n",
       "      <td>10</td>\n",
       "      <td>0</td>\n",
       "      <td>0.461457</td>\n",
       "      <td>[3356, 1508, 1257, 668, 265, 82, 2129, 2647, 9...</td>\n",
       "    </tr>\n",
       "    <tr>\n",
       "      <th>65</th>\n",
       "      <td>transfer-mscorpus-risec-fewshot_10-plaintext-c...</td>\n",
       "      <td>mscorpus</td>\n",
       "      <td>risec</td>\n",
       "      <td>plaintext</td>\n",
       "      <td>10</td>\n",
       "      <td>1</td>\n",
       "      <td>0.466065</td>\n",
       "      <td>[2250, 1291, 2258, 2721, 1459, 1998, 353, 2158...</td>\n",
       "    </tr>\n",
       "  </tbody>\n",
       "</table>\n",
       "</div>"
      ],
      "text/plain": [
       "                                                 name src_dataset tgt_dataset  \\\n",
       "38  transfer-mscorpus-risec-fewshot_10-dep_residua...    mscorpus       risec   \n",
       "39  transfer-mscorpus-risec-fewshot_10-dep_residua...    mscorpus       risec   \n",
       "40  transfer-mscorpus-risec-fewshot_10-dep_residua...    mscorpus       risec   \n",
       "50  transfer-mscorpus-risec-fewshot_10-amr_residua...    mscorpus       risec   \n",
       "51  transfer-mscorpus-risec-fewshot_10-amr_residua...    mscorpus       risec   \n",
       "52  transfer-mscorpus-risec-fewshot_10-amr_residua...    mscorpus       risec   \n",
       "62  transfer-mscorpus-risec-fewshot_10-plaintext-c...    mscorpus       risec   \n",
       "64  transfer-mscorpus-risec-fewshot_10-plaintext-c...    mscorpus       risec   \n",
       "65  transfer-mscorpus-risec-fewshot_10-plaintext-c...    mscorpus       risec   \n",
       "\n",
       "            case  fewshot  seed   test_f1  \\\n",
       "38  dep_residual       10     2  0.495249   \n",
       "39  dep_residual       10     1  0.524175   \n",
       "40  dep_residual       10     0  0.512471   \n",
       "50  amr_residual       10     2  0.504181   \n",
       "51  amr_residual       10     1  0.498349   \n",
       "52  amr_residual       10     0  0.493979   \n",
       "62     plaintext       10     2  0.442507   \n",
       "64     plaintext       10     0  0.461457   \n",
       "65     plaintext       10     1  0.466065   \n",
       "\n",
       "                              train_dataset_instances  \n",
       "38  [1633, 2997, 2387, 1298, 253, 1844, 2834, 1105...  \n",
       "39  [2250, 1291, 2258, 2721, 1459, 1998, 353, 2158...  \n",
       "40  [3356, 1508, 1257, 668, 265, 82, 2129, 2647, 9...  \n",
       "50  [1633, 2997, 2387, 1298, 253, 1844, 2834, 1105...  \n",
       "51  [2250, 1291, 2258, 2721, 1459, 1998, 353, 2158...  \n",
       "52  [3356, 1508, 1257, 668, 265, 82, 2129, 2647, 9...  \n",
       "62  [1633, 2997, 2387, 1298, 253, 1844, 2834, 1105...  \n",
       "64  [3356, 1508, 1257, 668, 265, 82, 2129, 2647, 9...  \n",
       "65  [2250, 1291, 2258, 2721, 1459, 1998, 353, 2158...  "
      ]
     },
     "execution_count": 47,
     "metadata": {},
     "output_type": "execute_result"
    }
   ],
   "source": [
    "df = results_df[(results_df[\"src_dataset\"] == \"mscorpus\") & (results_df[\"tgt_dataset\"] == \"risec\") & (results_df[\"fewshot\"] == 10)][[\"name\", \"src_dataset\", \"tgt_dataset\", \"case\", \"fewshot\", \"seed\", \"test_f1\", \"train_dataset_instances\"]]\n",
    "df"
   ]
  },
  {
   "cell_type": "code",
   "execution_count": 48,
   "metadata": {},
   "outputs": [],
   "source": [
    "instance_indices = df.iloc[0][\"train_dataset_instances\"]\n",
    "train_instances = [preprocessed_data[\"risec\"][\"train\"][\"rels\"][idx] for idx in instance_indices]\n",
    "type_paths = [unaggregated_paths_info[\"risec\"][\"train\"][idx] for idx in instance_indices]"
   ]
  },
  {
   "cell_type": "markdown",
   "metadata": {},
   "source": []
  },
  {
   "cell_type": "code",
   "execution_count": 49,
   "metadata": {},
   "outputs": [],
   "source": [
    "def get_per_label_performance_per_row(row):\n",
    "    filename = get_transfer_eval_filename(src_dataset=row[\"src_dataset\"], tgt_dataset=row[\"tgt_dataset\"], fewshot=FEWSHOT, split=\"test\", seed=row[\"seed\"], case=row[\"case\"])\n",
    "    run_df = pd.read_csv(os.path.join(\"results\", filename))\n",
    "    labels = sorted(run_df[\"labels\"].unique().tolist())\n",
    "    p, r , f, s = precision_recall_fscore_support(y_true=run_df[\"labels\"], y_pred=run_df[\"predictions\"], labels=labels)\n",
    "    f1_by_label = {label: f1 for label, f1 in zip(labels, f)}\n",
    "    return f1_by_label\n",
    "\n",
    "def get_path_counters_by_samples(dataset, sample_indices, graph_type):\n",
    "    type_paths = [unaggregated_paths_info[dataset][\"train\"][graph_type][idx] for idx in sample_indices]\n",
    "    paths_by_label = defaultdict(list)\n",
    "    for label, paths in type_paths:\n",
    "        paths_by_label[label].extend(paths)\n",
    "    paths_by_label = dict(paths_by_label)\n",
    "\n",
    "    counters_by_label = {label: Counter(itertools.chain(*paths)) for label, paths in paths_by_label.items()}\n",
    "    return dict(sorted(counters_by_label.items()))\n",
    "\n",
    "def get_gini_by_label(counters_by_label):\n",
    "    return {label: gini_coefficient(counter) for label, counter in counters_by_label.items()}\n",
    "\n",
    "\n",
    "def get_gini_by_label_for_row(row):\n",
    "    if row[\"case\"] == \"plaintext\":\n",
    "        return None\n",
    "    path_counters = get_path_counters_by_samples(row[\"tgt_dataset\"], row[\"train_dataset_instances\"], row[\"case\"].replace(\"_residual\", \"_data\"))\n",
    "    gini_coefs = get_gini_by_label(path_counters)\n",
    "    return gini_coefs"
   ]
  },
  {
   "cell_type": "code",
   "execution_count": 50,
   "metadata": {},
   "outputs": [],
   "source": [
    "df[\"per_class_test_f1\"] = df.apply(get_per_label_performance_per_row, axis=1)\n",
    "df[\"per_class_gini\"] = df.apply(get_gini_by_label_for_row, axis=1)"
   ]
  },
  {
   "cell_type": "code",
   "execution_count": null,
   "metadata": {},
   "outputs": [],
   "source": []
  },
  {
   "cell_type": "code",
   "execution_count": 32,
   "metadata": {},
   "outputs": [
    {
     "ename": "NameError",
     "evalue": "name 'df' is not defined",
     "output_type": "error",
     "traceback": [
      "\u001b[0;31m---------------------------------------------------------------------------\u001b[0m",
      "\u001b[0;31mNameError\u001b[0m                                 Traceback (most recent call last)",
      "\u001b[0;32m/tmp/ipykernel_25543/735040182.py\u001b[0m in \u001b[0;36m<module>\u001b[0;34m\u001b[0m\n\u001b[1;32m     26\u001b[0m \u001b[0;34m\u001b[0m\u001b[0m\n\u001b[1;32m     27\u001b[0m \u001b[0;34m\u001b[0m\u001b[0m\n\u001b[0;32m---> 28\u001b[0;31m \u001b[0;32mfor\u001b[0m \u001b[0mi\u001b[0m\u001b[0;34m,\u001b[0m \u001b[0mrow\u001b[0m \u001b[0;32min\u001b[0m \u001b[0mdf\u001b[0m\u001b[0;34m[\u001b[0m\u001b[0mdf\u001b[0m\u001b[0;34m[\u001b[0m\u001b[0;34m\"case\"\u001b[0m\u001b[0;34m]\u001b[0m \u001b[0;34m!=\u001b[0m \u001b[0;34m\"plaintext\"\u001b[0m\u001b[0;34m]\u001b[0m\u001b[0;34m.\u001b[0m\u001b[0miterrows\u001b[0m\u001b[0;34m(\u001b[0m\u001b[0;34m)\u001b[0m\u001b[0;34m:\u001b[0m\u001b[0;34m\u001b[0m\u001b[0;34m\u001b[0m\u001b[0m\n\u001b[0m\u001b[1;32m     29\u001b[0m     \u001b[0mcase\u001b[0m \u001b[0;34m=\u001b[0m \u001b[0mrow\u001b[0m\u001b[0;34m[\u001b[0m\u001b[0;34m\"case\"\u001b[0m\u001b[0;34m]\u001b[0m\u001b[0;34m\u001b[0m\u001b[0;34m\u001b[0m\u001b[0m\n\u001b[1;32m     30\u001b[0m     \u001b[0;32mfor\u001b[0m \u001b[0mlabel\u001b[0m\u001b[0;34m,\u001b[0m \u001b[0mf1\u001b[0m \u001b[0;32min\u001b[0m \u001b[0mrow\u001b[0m\u001b[0;34m[\u001b[0m\u001b[0;34m\"per_class_test_f1\"\u001b[0m\u001b[0;34m]\u001b[0m\u001b[0;34m.\u001b[0m\u001b[0mitems\u001b[0m\u001b[0;34m(\u001b[0m\u001b[0;34m)\u001b[0m\u001b[0;34m:\u001b[0m\u001b[0;34m\u001b[0m\u001b[0;34m\u001b[0m\u001b[0m\n",
      "\u001b[0;31mNameError\u001b[0m: name 'df' is not defined"
     ]
    }
   ],
   "source": [
    "LABELS = ['ArgM_INT',\n",
    " 'ArgM_LOC',\n",
    " 'ArgM_MNR',\n",
    " 'ArgM_PRP',\n",
    " 'ArgM_SIM',\n",
    " 'ArgM_TMP',\n",
    " 'Arg_DIR',\n",
    " 'Arg_GOL',\n",
    " 'Arg_PAG',\n",
    " 'Arg_PPT',\n",
    " 'Arg_PRD']\n",
    "\n",
    "f1s = []\n",
    "gini_coefs = []\n",
    "instance_labels = []\n",
    "instance_label_index = []\n",
    "\n",
    "f1s_by_label = defaultdict(list)\n",
    "gini_by_label = defaultdict(list)\n",
    "case_by_label = defaultdict(list)\n",
    "\n",
    "\n",
    "def get_corresponding_plaintext_row(row, df):\n",
    "    return df[(pd.DataFrame([df[thing] == row[thing] for thing in [\"src_dataset\", \"tgt_dataset\", \"fewshot\", \"seed\"]]).all()) & (df[\"case\"] ==  \"plaintext\")].iloc[0]\n",
    "\n",
    "    \n",
    "\n",
    "for i, row in df[df[\"case\"] != \"plaintext\"].iterrows():\n",
    "    case = row[\"case\"]\n",
    "    for label, f1 in row[\"per_class_test_f1\"].items():\n",
    "        gini = row[\"per_class_gini\"][label]\n",
    "        baseline_f1 = get_corresponding_plaintext_row(row, df)[\"per_class_test_f1\"][label]\n",
    "\n",
    "        f1s.append(f1 - baseline_f1)\n",
    "        gini_coefs.append(gini)\n",
    "        instance_labels.append(label)\n",
    "\n",
    "        f1s_by_label[label].append(f1)\n",
    "        gini_by_label[label].append(gini)\n",
    "        case_by_label[label].append(case)\n",
    "\n",
    "\n",
    "        instance_label_index.append(LABELS.index(label))\n",
    "\n",
    "fig, ax = plt.subplots(figsize=(15,10))\n",
    "ax.scatter(x=gini_coefs, y=f1s)\n",
    "\n",
    "\n",
    "# for label in LABELS:\n",
    "#     fig, ax = plt.subplots(figsize=(15,10))\n",
    "#     ax.scatter(x=gini_by_label[label][:3], y=f1s_by_label[label][:3], c=\"green\", label=case_by_label[label][0])\n",
    "#     ax.scatter(x=gini_by_label[label][3:], y=f1s_by_label[label][3:], c=\"red\", label=case_by_label[label][-1])\n",
    "#     ax.legend()\n",
    "#     ax.set_title(f\"F1 vs Gini Coefficient for {label}\")\n"
   ]
  },
  {
   "cell_type": "code",
   "execution_count": 18,
   "metadata": {},
   "outputs": [
    {
     "data": {
      "text/plain": [
       "name                       transfer-mscorpus-risec-fewshot_10-amr_residua...\n",
       "src_dataset                                                         mscorpus\n",
       "tgt_dataset                                                            risec\n",
       "case                                                            amr_residual\n",
       "fewshot                                                                   10\n",
       "seed                                                                       0\n",
       "test_f1                                                             0.493979\n",
       "train_dataset_instances    [3356, 1508, 1257, 668, 265, 82, 2129, 2647, 9...\n",
       "per_class_test_f1          {'ArgM_INT': 0.32, 'ArgM_LOC': 0.6806282722513...\n",
       "per_class_gini             {'ArgM_INT': 0.34782608695652173, 'ArgM_LOC': ...\n",
       "Name: 52, dtype: object"
      ]
     },
     "execution_count": 18,
     "metadata": {},
     "output_type": "execute_result"
    }
   ],
   "source": [
    "row"
   ]
  },
  {
   "cell_type": "code",
   "execution_count": 19,
   "metadata": {},
   "outputs": [
    {
     "data": {
      "text/plain": [
       "<matplotlib.collections.PathCollection at 0x7fe690c0b610>"
      ]
     },
     "execution_count": 19,
     "metadata": {},
     "output_type": "execute_result"
    },
    {
     "data": {
      "image/png": "[encoded data removed]",
      "text/plain": [
       "<Figure size 432x288 with 1 Axes>"
      ]
     },
     "metadata": {
      "needs_background": "light"
     },
     "output_type": "display_data"
    }
   ],
   "source": [
    "\n",
    "train_ginis = []\n",
    "test_ginis = []\n",
    "f1s = []\n",
    "\n",
    "for label in LABELS:\n",
    "    for i, row in df[df[\"case\"] == \"dep_residual\"].iterrows():\n",
    "        train_gini = row[\"per_class_gini\"][label]\n",
    "        f1 = row[\"per_class_test_f1\"][label]\n",
    "        baseline_f1 = get_corresponding_plaintext_row(row, df)[\"per_class_test_f1\"][label]\n",
    "        test_gini = dataset_gini[row[\"tgt_dataset\"]][\"test\"][row[\"case\"].replace(\"_residual\", \"_data\")][label]\n",
    "        train_ginis.append(train_gini)\n",
    "        test_ginis.append(test_gini)\n",
    "        f1s.append(f1 - baseline_f1)\n",
    "fig, ax = plt.subplots()\n",
    "ax.scatter(x=train_ginis, y=test_ginis, s=[np.abs(f1) * 10000 for f1 in f1s], c=[\"blue\" if f1 > 0 else \"red\" for f1 in f1s], alpha=0.5)"
   ]
  },
  {
   "cell_type": "code",
   "execution_count": null,
   "metadata": {},
   "outputs": [],
   "source": []
  },
  {
   "cell_type": "markdown",
   "metadata": {},
   "source": []
  }
 ],
 "metadata": {
  "kernelspec": {
   "display_name": "amr2",
   "language": "python",
   "name": "python3"
  },
  "language_info": {
   "codemirror_mode": {
    "name": "ipython",
    "version": 3
   },
   "file_extension": ".py",
   "mimetype": "text/x-python",
   "name": "python",
   "nbconvert_exporter": "python",
   "pygments_lexer": "ipython3",
   "version": "3.7.13"
  },
  "orig_nbformat": 4,
  "vscode": {
   "interpreter": {
    "hash": "aa6125668c898f1b71ffc1f214528a842df47e43f39f25f123e266e2c64fa563"
   }
  }
 },
 "nbformat": 4,
 "nbformat_minor": 2
}
