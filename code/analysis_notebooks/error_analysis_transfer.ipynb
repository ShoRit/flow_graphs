{
 "cells": [
  {
   "cell_type": "code",
   "execution_count": 20,
   "metadata": {},
   "outputs": [],
   "source": [
    "from matplotlib import pyplot as plt\n",
    "import numpy as np\n",
    "import pandas as pd\n",
    "from sklearn.metrics import ConfusionMatrixDisplay, precision_recall_fscore_support"
   ]
  },
  {
   "cell_type": "code",
   "execution_count": 2,
   "metadata": {},
   "outputs": [],
   "source": [
    "pd.set_option(\"display.max_columns\", None)"
   ]
  },
  {
   "cell_type": "code",
   "execution_count": 3,
   "metadata": {},
   "outputs": [
    {
     "name": "stdout",
     "output_type": "stream",
     "text": [
      "Error with results/transfer_results_test_mscorpus_risec_1_0_plaintext.csv\n"
     ]
    }
   ],
   "source": [
    "SEEDS = [0,1,2]\n",
    "CASES = [\"plaintext\", \"amr_residual\", \"dep_residual\"]\n",
    "FEWSHOTS = [1, 10, 50, 100]\n",
    "\n",
    "df_format_string = \"results/transfer_results_{split}_{src_dataset}_{tgt_dataset}_{fewshot}_{seed}_{case}.csv\"\n",
    "\n",
    "def get_dataset_performance(src_dataset, tgt_dataset, split=\"test\", return_precision_recall=True):\n",
    "    results_dicts = []\n",
    "    \n",
    "    for fewshot in FEWSHOTS:\n",
    "        for case in CASES:\n",
    "            for seed in SEEDS:\n",
    "                results_dict = {\"case\": case, \"seed\": seed, \"fewshot\": fewshot}\n",
    "                df_filename = df_format_string.format(src_dataset=src_dataset, tgt_dataset=tgt_dataset, fewshot=fewshot, split=split, seed=seed, case=case)\n",
    "                try:\n",
    "                    results_df = pd.read_csv(df_filename)\n",
    "                except FileNotFoundError:\n",
    "                    print(f\"Error with {df_filename}\")\n",
    "                    continue\n",
    "                labels = sorted(results_df[\"labels\"].unique())\n",
    "                p, r, f, _ = precision_recall_fscore_support(results_df[\"labels\"], results_df[\"predictions\"])\n",
    "                for label, label_p, label_r, label_f in zip(labels, p, r, f):\n",
    "                    if return_precision_recall:\n",
    "                        results_dict[f\"{label}_precision\"] = label_p\n",
    "                        results_dict[f\"{label}_recall\"] = label_r\n",
    "                    results_dict[f\"{label}_f1\"] = label_f\n",
    "\n",
    "                results_dicts.append(results_dict)\n",
    "\n",
    "    results_df = pd.DataFrame(results_dicts)\n",
    "    return results_df\n",
    "\n",
    "mscorpus_risec_df = get_dataset_performance(\"mscorpus\", \"risec\", return_precision_recall=False)"
   ]
  },
  {
   "cell_type": "code",
   "execution_count": 14,
   "metadata": {},
   "outputs": [
    {
     "data": {
      "text/html": [
       "<div>\n",
       "<style scoped>\n",
       "    .dataframe tbody tr th:only-of-type {\n",
       "        vertical-align: middle;\n",
       "    }\n",
       "\n",
       "    .dataframe tbody tr th {\n",
       "        vertical-align: top;\n",
       "    }\n",
       "\n",
       "    .dataframe thead th {\n",
       "        text-align: right;\n",
       "    }\n",
       "</style>\n",
       "<table border=\"1\" class=\"dataframe\">\n",
       "  <thead>\n",
       "    <tr style=\"text-align: right;\">\n",
       "      <th>case</th>\n",
       "      <th>amr_residual</th>\n",
       "      <th>dep_residual</th>\n",
       "      <th>plaintext</th>\n",
       "    </tr>\n",
       "  </thead>\n",
       "  <tbody>\n",
       "    <tr>\n",
       "      <th>ArgM_INT_f1</th>\n",
       "      <td>0.082783</td>\n",
       "      <td>0.051169</td>\n",
       "      <td>0.117782</td>\n",
       "    </tr>\n",
       "    <tr>\n",
       "      <th>ArgM_LOC_f1</th>\n",
       "      <td>0.310834</td>\n",
       "      <td>0.258831</td>\n",
       "      <td>0.277839</td>\n",
       "    </tr>\n",
       "    <tr>\n",
       "      <th>ArgM_MNR_f1</th>\n",
       "      <td>0.528357</td>\n",
       "      <td>0.568646</td>\n",
       "      <td>0.506884</td>\n",
       "    </tr>\n",
       "    <tr>\n",
       "      <th>ArgM_PRP_f1</th>\n",
       "      <td>0.220494</td>\n",
       "      <td>0.124796</td>\n",
       "      <td>0.160586</td>\n",
       "    </tr>\n",
       "    <tr>\n",
       "      <th>ArgM_SIM_f1</th>\n",
       "      <td>0.134731</td>\n",
       "      <td>0.130469</td>\n",
       "      <td>0.066354</td>\n",
       "    </tr>\n",
       "    <tr>\n",
       "      <th>ArgM_TMP_f1</th>\n",
       "      <td>0.390300</td>\n",
       "      <td>0.358462</td>\n",
       "      <td>0.436341</td>\n",
       "    </tr>\n",
       "    <tr>\n",
       "      <th>Arg_DIR_f1</th>\n",
       "      <td>0.118344</td>\n",
       "      <td>0.107417</td>\n",
       "      <td>0.146129</td>\n",
       "    </tr>\n",
       "    <tr>\n",
       "      <th>Arg_GOL_f1</th>\n",
       "      <td>0.086995</td>\n",
       "      <td>0.113948</td>\n",
       "      <td>0.132751</td>\n",
       "    </tr>\n",
       "    <tr>\n",
       "      <th>Arg_PAG_f1</th>\n",
       "      <td>0.072738</td>\n",
       "      <td>0.036546</td>\n",
       "      <td>0.032258</td>\n",
       "    </tr>\n",
       "    <tr>\n",
       "      <th>Arg_PPT_f1</th>\n",
       "      <td>0.358660</td>\n",
       "      <td>0.312548</td>\n",
       "      <td>0.311900</td>\n",
       "    </tr>\n",
       "    <tr>\n",
       "      <th>Arg_PRD_f1</th>\n",
       "      <td>0.133622</td>\n",
       "      <td>0.073054</td>\n",
       "      <td>0.102073</td>\n",
       "    </tr>\n",
       "  </tbody>\n",
       "</table>\n",
       "</div>"
      ],
      "text/plain": [
       "case         amr_residual  dep_residual  plaintext\n",
       "ArgM_INT_f1      0.082783      0.051169   0.117782\n",
       "ArgM_LOC_f1      0.310834      0.258831   0.277839\n",
       "ArgM_MNR_f1      0.528357      0.568646   0.506884\n",
       "ArgM_PRP_f1      0.220494      0.124796   0.160586\n",
       "ArgM_SIM_f1      0.134731      0.130469   0.066354\n",
       "ArgM_TMP_f1      0.390300      0.358462   0.436341\n",
       "Arg_DIR_f1       0.118344      0.107417   0.146129\n",
       "Arg_GOL_f1       0.086995      0.113948   0.132751\n",
       "Arg_PAG_f1       0.072738      0.036546   0.032258\n",
       "Arg_PPT_f1       0.358660      0.312548   0.311900\n",
       "Arg_PRD_f1       0.133622      0.073054   0.102073"
      ]
     },
     "execution_count": 14,
     "metadata": {},
     "output_type": "execute_result"
    }
   ],
   "source": [
    "mscorpus_risec_df[mscorpus_risec_df[\"fewshot\"] == 1].groupby(\"case\").mean().drop(columns=[\"seed\", \"fewshot\"]).T"
   ]
  },
  {
   "cell_type": "code",
   "execution_count": 21,
   "metadata": {},
   "outputs": [
    {
     "name": "stderr",
     "output_type": "stream",
     "text": [
      "No artists with labels found to put in legend.  Note that artists whose label start with an underscore are ignored when legend() is called with no argument.\n"
     ]
    },
    {
     "data": {
      "text/plain": [
       "<matplotlib.legend.Legend at 0x7ff520154590>"
      ]
     },
     "execution_count": 21,
     "metadata": {},
     "output_type": "execute_result"
    },
    {
     "data": {
      "image/png": "[encoded data removed]",
      "text/plain": [
       "<Figure size 432x288 with 1 Axes>"
      ]
     },
     "metadata": {
      "needs_background": "light"
     },
     "output_type": "display_data"
    }
   ],
   "source": [
    "transpose_risec_f1s =  mscorpus_risec_df[mscorpus_risec_df[\"fewshot\"] == 1].groupby(\"case\").mean().drop(columns=[\"seed\", \"fewshot\"]).T\n",
    "\n",
    "fig, ax = plt.subplots()\n",
    "ax.legend()\n",
    "(transpose_risec_f1s[\"dep_residual\"] - transpose_risec_f1s[\"plaintext\"]).hist(ax=ax)\n",
    "\n",
    "(transpose_risec_f1s[\"amr_residual\"] - transpose_risec_f1s[\"plaintext\"]).hist(ax=ax)"
   ]
  },
  {
   "cell_type": "code",
   "execution_count": null,
   "metadata": {},
   "outputs": [],
   "source": []
  }
 ],
 "metadata": {
  "kernelspec": {
   "display_name": "Python 3.7.13 ('amr2')",
   "language": "python",
   "name": "python3"
  },
  "language_info": {
   "codemirror_mode": {
    "name": "ipython",
    "version": 3
   },
   "file_extension": ".py",
   "mimetype": "text/x-python",
   "name": "python",
   "nbconvert_exporter": "python",
   "pygments_lexer": "ipython3",
   "version": "3.7.13"
  },
  "orig_nbformat": 4,
  "vscode": {
   "interpreter": {
    "hash": "aa6125668c898f1b71ffc1f214528a842df47e43f39f25f123e266e2c64fa563"
   }
  }
 },
 "nbformat": 4,
 "nbformat_minor": 2
}
