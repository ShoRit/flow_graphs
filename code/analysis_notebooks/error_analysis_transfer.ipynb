{
 "cells": [
  {
   "cell_type": "code",
   "execution_count": 1,
   "metadata": {},
   "outputs": [],
   "source": [
    "from matplotlib import pyplot as plt\n",
    "import numpy as np\n",
    "import pandas as pd\n",
    "from sklearn.metrics import ConfusionMatrixDisplay, precision_recall_fscore_support"
   ]
  },
  {
   "cell_type": "code",
   "execution_count": 2,
   "metadata": {},
   "outputs": [],
   "source": [
    "pd.set_option(\"display.max_columns\", None)"
   ]
  },
  {
   "cell_type": "code",
   "execution_count": 31,
   "metadata": {},
   "outputs": [
    {
     "name": "stdout",
     "output_type": "stream",
     "text": [
      "Error with results/transfer_results_test_mscorpus_risec_1_0_plaintext.csv\n"
     ]
    }
   ],
   "source": [
    "SEEDS = [0,1,2]\n",
    "CASES = [\"plaintext\", \"amr_residual\", \"dep_residual\"]\n",
    "FEWSHOTS = [1, 10, 50, 100]\n",
    "\n",
    "df_format_string = \"results/transfer_results_{split}_{src_dataset}_{tgt_dataset}_{fewshot}_{seed}_{case}.csv\"\n",
    "\n",
    "def get_dataset_performance(src_dataset, tgt_dataset, split=\"test\", return_precision_recall=True):\n",
    "    results_dicts = []\n",
    "    \n",
    "    for fewshot in FEWSHOTS:\n",
    "        for case in CASES:\n",
    "            for seed in SEEDS:\n",
    "                results_dict = {\"case\": case, \"seed\": seed, \"fewshot\": fewshot}\n",
    "                df_filename = df_format_string.format(src_dataset=src_dataset, tgt_dataset=tgt_dataset, fewshot=fewshot, split=split, seed=seed, case=case)\n",
    "                try:\n",
    "                    results_df = pd.read_csv(df_filename)\n",
    "                except FileNotFoundError:\n",
    "                    print(f\"Error with {df_filename}\")\n",
    "                    continue\n",
    "                labels = sorted(results_df[\"labels\"].unique())\n",
    "                p, r, f, _ = precision_recall_fscore_support(results_df[\"labels\"], results_df[\"predictions\"])\n",
    "                for label, label_p, label_r, label_f in zip(labels, p, r, f):\n",
    "                    if return_precision_recall:\n",
    "                        results_dict[f\"{label}_precision\"] = label_p\n",
    "                        results_dict[f\"{label}_recall\"] = label_r\n",
    "                    results_dict[f\"{label}_f1\"] = label_f\n",
    "\n",
    "                results_dicts.append(results_dict)\n",
    "\n",
    "    results_df = pd.DataFrame(results_dicts)\n",
    "    results_df[\"src_dataset\"] = src_dataset\n",
    "    results_df[\"tgt_dataset\"] = tgt_dataset\n",
    "    return results_df\n",
    "\n",
    "\n",
    "def transpose_results_df(src_dataset, tgt_dataset, split=\"test\", fewshot=10):\n",
    "    results_df = get_dataset_performance(src_dataset, tgt_dataset, split=split, return_precision_recall=False)\n",
    "    transposed_df = results_df[results_df[\"fewshot\"] == fewshot].groupby([\"case\"]).mean().drop(columns=[\"seed\", \"fewshot\"]).T.reset_index().rename(columns={\"index\":\"label\"})\n",
    "    transposed_df[\"label\"] = transposed_df[\"label\"].str.replace(\"_f1\", \"\")\n",
    "    transposed_df[\"src_dataset\"] = src_dataset\n",
    "    transposed_df[\"tgt_dataset\"] = tgt_dataset\n",
    "    return transposed_df\n",
    "\n",
    "\n",
    "mscorpus_risec_df = get_dataset_performance(\"mscorpus\", \"risec\", return_precision_recall=False)"
   ]
  },
  {
   "cell_type": "code",
   "execution_count": 29,
   "metadata": {},
   "outputs": [
    {
     "data": {
      "text/html": [
       "<div>\n",
       "<style scoped>\n",
       "    .dataframe tbody tr th:only-of-type {\n",
       "        vertical-align: middle;\n",
       "    }\n",
       "\n",
       "    .dataframe tbody tr th {\n",
       "        vertical-align: top;\n",
       "    }\n",
       "\n",
       "    .dataframe thead th {\n",
       "        text-align: right;\n",
       "    }\n",
       "</style>\n",
       "<table border=\"1\" class=\"dataframe\">\n",
       "  <thead>\n",
       "    <tr style=\"text-align: right;\">\n",
       "      <th>case</th>\n",
       "      <th>amr_residual</th>\n",
       "      <th>dep_residual</th>\n",
       "      <th>plaintext</th>\n",
       "    </tr>\n",
       "  </thead>\n",
       "  <tbody>\n",
       "    <tr>\n",
       "      <th>ArgM_INT_f1</th>\n",
       "      <td>0.082783</td>\n",
       "      <td>0.051169</td>\n",
       "      <td>0.117782</td>\n",
       "    </tr>\n",
       "    <tr>\n",
       "      <th>ArgM_LOC_f1</th>\n",
       "      <td>0.310834</td>\n",
       "      <td>0.258831</td>\n",
       "      <td>0.277839</td>\n",
       "    </tr>\n",
       "    <tr>\n",
       "      <th>ArgM_MNR_f1</th>\n",
       "      <td>0.528357</td>\n",
       "      <td>0.568646</td>\n",
       "      <td>0.506884</td>\n",
       "    </tr>\n",
       "    <tr>\n",
       "      <th>ArgM_PRP_f1</th>\n",
       "      <td>0.220494</td>\n",
       "      <td>0.124796</td>\n",
       "      <td>0.160586</td>\n",
       "    </tr>\n",
       "    <tr>\n",
       "      <th>ArgM_SIM_f1</th>\n",
       "      <td>0.134731</td>\n",
       "      <td>0.130469</td>\n",
       "      <td>0.066354</td>\n",
       "    </tr>\n",
       "    <tr>\n",
       "      <th>ArgM_TMP_f1</th>\n",
       "      <td>0.390300</td>\n",
       "      <td>0.358462</td>\n",
       "      <td>0.436341</td>\n",
       "    </tr>\n",
       "    <tr>\n",
       "      <th>Arg_DIR_f1</th>\n",
       "      <td>0.118344</td>\n",
       "      <td>0.107417</td>\n",
       "      <td>0.146129</td>\n",
       "    </tr>\n",
       "    <tr>\n",
       "      <th>Arg_GOL_f1</th>\n",
       "      <td>0.086995</td>\n",
       "      <td>0.113948</td>\n",
       "      <td>0.132751</td>\n",
       "    </tr>\n",
       "    <tr>\n",
       "      <th>Arg_PAG_f1</th>\n",
       "      <td>0.072738</td>\n",
       "      <td>0.036546</td>\n",
       "      <td>0.032258</td>\n",
       "    </tr>\n",
       "    <tr>\n",
       "      <th>Arg_PPT_f1</th>\n",
       "      <td>0.358660</td>\n",
       "      <td>0.312548</td>\n",
       "      <td>0.311900</td>\n",
       "    </tr>\n",
       "    <tr>\n",
       "      <th>Arg_PRD_f1</th>\n",
       "      <td>0.133622</td>\n",
       "      <td>0.073054</td>\n",
       "      <td>0.102073</td>\n",
       "    </tr>\n",
       "  </tbody>\n",
       "</table>\n",
       "</div>"
      ],
      "text/plain": [
       "case         amr_residual  dep_residual  plaintext\n",
       "ArgM_INT_f1      0.082783      0.051169   0.117782\n",
       "ArgM_LOC_f1      0.310834      0.258831   0.277839\n",
       "ArgM_MNR_f1      0.528357      0.568646   0.506884\n",
       "ArgM_PRP_f1      0.220494      0.124796   0.160586\n",
       "ArgM_SIM_f1      0.134731      0.130469   0.066354\n",
       "ArgM_TMP_f1      0.390300      0.358462   0.436341\n",
       "Arg_DIR_f1       0.118344      0.107417   0.146129\n",
       "Arg_GOL_f1       0.086995      0.113948   0.132751\n",
       "Arg_PAG_f1       0.072738      0.036546   0.032258\n",
       "Arg_PPT_f1       0.358660      0.312548   0.311900\n",
       "Arg_PRD_f1       0.133622      0.073054   0.102073"
      ]
     },
     "execution_count": 29,
     "metadata": {},
     "output_type": "execute_result"
    }
   ],
   "source": [
    "mscorpus_risec_df[mscorpus_risec_df[\"fewshot\"] == 1].groupby(\"case\").mean().drop(columns=[\"seed\", \"fewshot\"]).T"
   ]
  },
  {
   "cell_type": "code",
   "execution_count": 5,
   "metadata": {},
   "outputs": [
    {
     "data": {
      "text/plain": [
       "<matplotlib.legend.Legend at 0x7fac1bb31210>"
      ]
     },
     "execution_count": 5,
     "metadata": {},
     "output_type": "execute_result"
    },
    {
     "data": {
      "image/png": "[encoded data removed]",
      "text/plain": [
       "<Figure size 432x288 with 1 Axes>"
      ]
     },
     "metadata": {
      "needs_background": "light"
     },
     "output_type": "display_data"
    }
   ],
   "source": [
    "transpose_risec_f1s =  mscorpus_risec_df[mscorpus_risec_df[\"fewshot\"] == 1].groupby(\"case\").mean().drop(columns=[\"seed\", \"fewshot\"]).T\n",
    "\n",
    "fig, ax = plt.subplots()\n",
    "(transpose_risec_f1s[\"dep_residual\"] - transpose_risec_f1s[\"plaintext\"]).hist(ax=ax, label=\"dep\")\n",
    "\n",
    "(transpose_risec_f1s[\"amr_residual\"] - transpose_risec_f1s[\"plaintext\"]).hist(ax=ax, label=\"amr\")\n",
    "\n",
    "\n",
    "ax.legend()\n"
   ]
  },
  {
   "cell_type": "code",
   "execution_count": 19,
   "metadata": {},
   "outputs": [],
   "source": [
    "mscorpus_risec_df[mscorpus_risec_df[\"fewshot\"] == 10].groupby([\"case\"]).mean().drop(columns=[\"seed\", \"fewshot\"]).T.reset_index().rename(columns={\"index\":\"label\"}).to_csv(\"mscorpus_risec_50.csv\", index=False)"
   ]
  },
  {
   "cell_type": "code",
   "execution_count": 39,
   "metadata": {},
   "outputs": [
    {
     "name": "stdout",
     "output_type": "stream",
     "text": [
      "Error with results/transfer_results_test_mscorpus_risec_1_0_plaintext.csv\n",
      "Error with results/transfer_results_test_japflow_risec_1_1_amr_residual.csv\n",
      "Error with results/transfer_results_test_japflow_risec_10_1_amr_residual.csv\n",
      "Error with results/transfer_results_test_japflow_risec_50_1_amr_residual.csv\n",
      "Error with results/transfer_results_test_japflow_risec_100_1_amr_residual.csv\n",
      "Error with results/transfer_results_test_risec_mscorpus_1_0_plaintext.csv\n",
      "Error with results/transfer_results_test_risec_mscorpus_1_1_plaintext.csv\n",
      "Error with results/transfer_results_test_risec_mscorpus_1_2_plaintext.csv\n",
      "Error with results/transfer_results_test_risec_mscorpus_1_0_amr_residual.csv\n",
      "Error with results/transfer_results_test_risec_mscorpus_1_1_amr_residual.csv\n",
      "Error with results/transfer_results_test_risec_mscorpus_1_2_amr_residual.csv\n",
      "Error with results/transfer_results_test_risec_mscorpus_1_0_dep_residual.csv\n",
      "Error with results/transfer_results_test_risec_mscorpus_1_1_dep_residual.csv\n",
      "Error with results/transfer_results_test_risec_mscorpus_1_2_dep_residual.csv\n",
      "Error with results/transfer_results_test_risec_mscorpus_10_0_plaintext.csv\n",
      "Error with results/transfer_results_test_risec_mscorpus_10_1_plaintext.csv\n",
      "Error with results/transfer_results_test_risec_mscorpus_10_2_plaintext.csv\n",
      "Error with results/transfer_results_test_risec_mscorpus_10_0_amr_residual.csv\n",
      "Error with results/transfer_results_test_risec_mscorpus_10_1_amr_residual.csv\n",
      "Error with results/transfer_results_test_risec_mscorpus_10_2_amr_residual.csv\n",
      "Error with results/transfer_results_test_risec_mscorpus_10_0_dep_residual.csv\n",
      "Error with results/transfer_results_test_risec_mscorpus_10_1_dep_residual.csv\n",
      "Error with results/transfer_results_test_risec_mscorpus_10_2_dep_residual.csv\n",
      "Error with results/transfer_results_test_risec_mscorpus_50_0_plaintext.csv\n",
      "Error with results/transfer_results_test_risec_mscorpus_50_1_plaintext.csv\n",
      "Error with results/transfer_results_test_risec_mscorpus_50_2_plaintext.csv\n",
      "Error with results/transfer_results_test_risec_mscorpus_50_0_amr_residual.csv\n",
      "Error with results/transfer_results_test_risec_mscorpus_50_1_amr_residual.csv\n",
      "Error with results/transfer_results_test_risec_mscorpus_50_2_amr_residual.csv\n",
      "Error with results/transfer_results_test_risec_mscorpus_50_0_dep_residual.csv\n",
      "Error with results/transfer_results_test_risec_mscorpus_50_1_dep_residual.csv\n",
      "Error with results/transfer_results_test_risec_mscorpus_50_2_dep_residual.csv\n",
      "Error with results/transfer_results_test_risec_mscorpus_100_0_plaintext.csv\n",
      "Error with results/transfer_results_test_risec_mscorpus_100_1_plaintext.csv\n",
      "Error with results/transfer_results_test_risec_mscorpus_100_2_plaintext.csv\n",
      "Error with results/transfer_results_test_risec_mscorpus_100_0_amr_residual.csv\n",
      "Error with results/transfer_results_test_risec_mscorpus_100_1_amr_residual.csv\n",
      "Error with results/transfer_results_test_risec_mscorpus_100_2_amr_residual.csv\n",
      "Error with results/transfer_results_test_risec_mscorpus_100_0_dep_residual.csv\n",
      "Error with results/transfer_results_test_risec_mscorpus_100_1_dep_residual.csv\n",
      "Error with results/transfer_results_test_risec_mscorpus_100_2_dep_residual.csv\n"
     ]
    },
    {
     "ename": "KeyError",
     "evalue": "'fewshot'",
     "output_type": "error",
     "traceback": [
      "\u001b[0;31m---------------------------------------------------------------------------\u001b[0m",
      "\u001b[0;31mKeyError\u001b[0m                                  Traceback (most recent call last)",
      "\u001b[0;32m~/miniconda3/envs/amr2/lib/python3.7/site-packages/pandas/core/indexes/base.py\u001b[0m in \u001b[0;36mget_loc\u001b[0;34m(self, key, method, tolerance)\u001b[0m\n\u001b[1;32m   3360\u001b[0m             \u001b[0;32mtry\u001b[0m\u001b[0;34m:\u001b[0m\u001b[0;34m\u001b[0m\u001b[0;34m\u001b[0m\u001b[0m\n\u001b[0;32m-> 3361\u001b[0;31m                 \u001b[0;32mreturn\u001b[0m \u001b[0mself\u001b[0m\u001b[0;34m.\u001b[0m\u001b[0m_engine\u001b[0m\u001b[0;34m.\u001b[0m\u001b[0mget_loc\u001b[0m\u001b[0;34m(\u001b[0m\u001b[0mcasted_key\u001b[0m\u001b[0;34m)\u001b[0m\u001b[0;34m\u001b[0m\u001b[0;34m\u001b[0m\u001b[0m\n\u001b[0m\u001b[1;32m   3362\u001b[0m             \u001b[0;32mexcept\u001b[0m \u001b[0mKeyError\u001b[0m \u001b[0;32mas\u001b[0m \u001b[0merr\u001b[0m\u001b[0;34m:\u001b[0m\u001b[0;34m\u001b[0m\u001b[0;34m\u001b[0m\u001b[0m\n",
      "\u001b[0;32m~/miniconda3/envs/amr2/lib/python3.7/site-packages/pandas/_libs/index.pyx\u001b[0m in \u001b[0;36mpandas._libs.index.IndexEngine.get_loc\u001b[0;34m()\u001b[0m\n",
      "\u001b[0;32m~/miniconda3/envs/amr2/lib/python3.7/site-packages/pandas/_libs/index.pyx\u001b[0m in \u001b[0;36mpandas._libs.index.IndexEngine.get_loc\u001b[0;34m()\u001b[0m\n",
      "\u001b[0;32mpandas/_libs/hashtable_class_helper.pxi\u001b[0m in \u001b[0;36mpandas._libs.hashtable.PyObjectHashTable.get_item\u001b[0;34m()\u001b[0m\n",
      "\u001b[0;32mpandas/_libs/hashtable_class_helper.pxi\u001b[0m in \u001b[0;36mpandas._libs.hashtable.PyObjectHashTable.get_item\u001b[0;34m()\u001b[0m\n",
      "\u001b[0;31mKeyError\u001b[0m: 'fewshot'",
      "\nThe above exception was the direct cause of the following exception:\n",
      "\u001b[0;31mKeyError\u001b[0m                                  Traceback (most recent call last)",
      "\u001b[0;32m/tmp/ipykernel_43849/249537590.py\u001b[0m in \u001b[0;36m<module>\u001b[0;34m\u001b[0m\n\u001b[1;32m      1\u001b[0m \u001b[0mmscorpus_risec\u001b[0m \u001b[0;34m=\u001b[0m \u001b[0mtranspose_results_df\u001b[0m\u001b[0;34m(\u001b[0m\u001b[0;34m\"mscorpus\"\u001b[0m\u001b[0;34m,\u001b[0m \u001b[0;34m\"risec\"\u001b[0m\u001b[0;34m)\u001b[0m\u001b[0;34m\u001b[0m\u001b[0;34m\u001b[0m\u001b[0m\n\u001b[1;32m      2\u001b[0m \u001b[0mefgc_risec\u001b[0m \u001b[0;34m=\u001b[0m \u001b[0mtranspose_results_df\u001b[0m\u001b[0;34m(\u001b[0m\u001b[0;34m\"japflow\"\u001b[0m\u001b[0;34m,\u001b[0m \u001b[0;34m\"risec\"\u001b[0m\u001b[0;34m)\u001b[0m\u001b[0;34m\u001b[0m\u001b[0;34m\u001b[0m\u001b[0m\n\u001b[0;32m----> 3\u001b[0;31m \u001b[0mrisec_mscorpus\u001b[0m \u001b[0;34m=\u001b[0m \u001b[0mtranspose_results_df\u001b[0m\u001b[0;34m(\u001b[0m\u001b[0;34m\"risec\"\u001b[0m\u001b[0;34m,\u001b[0m \u001b[0;34m\"mscorpus\"\u001b[0m\u001b[0;34m)\u001b[0m\u001b[0;34m\u001b[0m\u001b[0;34m\u001b[0m\u001b[0m\n\u001b[0m",
      "\u001b[0;32m/tmp/ipykernel_43849/947337826.py\u001b[0m in \u001b[0;36mtranspose_results_df\u001b[0;34m(src_dataset, tgt_dataset, split, fewshot)\u001b[0m\n\u001b[1;32m     36\u001b[0m \u001b[0;32mdef\u001b[0m \u001b[0mtranspose_results_df\u001b[0m\u001b[0;34m(\u001b[0m\u001b[0msrc_dataset\u001b[0m\u001b[0;34m,\u001b[0m \u001b[0mtgt_dataset\u001b[0m\u001b[0;34m,\u001b[0m \u001b[0msplit\u001b[0m\u001b[0;34m=\u001b[0m\u001b[0;34m\"test\"\u001b[0m\u001b[0;34m,\u001b[0m \u001b[0mfewshot\u001b[0m\u001b[0;34m=\u001b[0m\u001b[0;36m10\u001b[0m\u001b[0;34m)\u001b[0m\u001b[0;34m:\u001b[0m\u001b[0;34m\u001b[0m\u001b[0;34m\u001b[0m\u001b[0m\n\u001b[1;32m     37\u001b[0m     \u001b[0mresults_df\u001b[0m \u001b[0;34m=\u001b[0m \u001b[0mget_dataset_performance\u001b[0m\u001b[0;34m(\u001b[0m\u001b[0msrc_dataset\u001b[0m\u001b[0;34m,\u001b[0m \u001b[0mtgt_dataset\u001b[0m\u001b[0;34m,\u001b[0m \u001b[0msplit\u001b[0m\u001b[0;34m=\u001b[0m\u001b[0msplit\u001b[0m\u001b[0;34m,\u001b[0m \u001b[0mreturn_precision_recall\u001b[0m\u001b[0;34m=\u001b[0m\u001b[0;32mFalse\u001b[0m\u001b[0;34m)\u001b[0m\u001b[0;34m\u001b[0m\u001b[0;34m\u001b[0m\u001b[0m\n\u001b[0;32m---> 38\u001b[0;31m     \u001b[0mtransposed_df\u001b[0m \u001b[0;34m=\u001b[0m \u001b[0mresults_df\u001b[0m\u001b[0;34m[\u001b[0m\u001b[0mresults_df\u001b[0m\u001b[0;34m[\u001b[0m\u001b[0;34m\"fewshot\"\u001b[0m\u001b[0;34m]\u001b[0m \u001b[0;34m==\u001b[0m \u001b[0mfewshot\u001b[0m\u001b[0;34m]\u001b[0m\u001b[0;34m.\u001b[0m\u001b[0mgroupby\u001b[0m\u001b[0;34m(\u001b[0m\u001b[0;34m[\u001b[0m\u001b[0;34m\"case\"\u001b[0m\u001b[0;34m]\u001b[0m\u001b[0;34m)\u001b[0m\u001b[0;34m.\u001b[0m\u001b[0mmean\u001b[0m\u001b[0;34m(\u001b[0m\u001b[0;34m)\u001b[0m\u001b[0;34m.\u001b[0m\u001b[0mdrop\u001b[0m\u001b[0;34m(\u001b[0m\u001b[0mcolumns\u001b[0m\u001b[0;34m=\u001b[0m\u001b[0;34m[\u001b[0m\u001b[0;34m\"seed\"\u001b[0m\u001b[0;34m,\u001b[0m \u001b[0;34m\"fewshot\"\u001b[0m\u001b[0;34m]\u001b[0m\u001b[0;34m)\u001b[0m\u001b[0;34m.\u001b[0m\u001b[0mT\u001b[0m\u001b[0;34m.\u001b[0m\u001b[0mreset_index\u001b[0m\u001b[0;34m(\u001b[0m\u001b[0;34m)\u001b[0m\u001b[0;34m.\u001b[0m\u001b[0mrename\u001b[0m\u001b[0;34m(\u001b[0m\u001b[0mcolumns\u001b[0m\u001b[0;34m=\u001b[0m\u001b[0;34m{\u001b[0m\u001b[0;34m\"index\"\u001b[0m\u001b[0;34m:\u001b[0m\u001b[0;34m\"label\"\u001b[0m\u001b[0;34m}\u001b[0m\u001b[0;34m)\u001b[0m\u001b[0;34m\u001b[0m\u001b[0;34m\u001b[0m\u001b[0m\n\u001b[0m\u001b[1;32m     39\u001b[0m     \u001b[0mtransposed_df\u001b[0m\u001b[0;34m[\u001b[0m\u001b[0;34m\"label\"\u001b[0m\u001b[0;34m]\u001b[0m \u001b[0;34m=\u001b[0m \u001b[0mtransposed_df\u001b[0m\u001b[0;34m[\u001b[0m\u001b[0;34m\"label\"\u001b[0m\u001b[0;34m]\u001b[0m\u001b[0;34m.\u001b[0m\u001b[0mstr\u001b[0m\u001b[0;34m.\u001b[0m\u001b[0mreplace\u001b[0m\u001b[0;34m(\u001b[0m\u001b[0;34m\"_f1\"\u001b[0m\u001b[0;34m,\u001b[0m \u001b[0;34m\"\"\u001b[0m\u001b[0;34m)\u001b[0m\u001b[0;34m\u001b[0m\u001b[0;34m\u001b[0m\u001b[0m\n\u001b[1;32m     40\u001b[0m     \u001b[0mtransposed_df\u001b[0m\u001b[0;34m[\u001b[0m\u001b[0;34m\"src_dataset\"\u001b[0m\u001b[0;34m]\u001b[0m \u001b[0;34m=\u001b[0m \u001b[0msrc_dataset\u001b[0m\u001b[0;34m\u001b[0m\u001b[0;34m\u001b[0m\u001b[0m\n",
      "\u001b[0;32m~/miniconda3/envs/amr2/lib/python3.7/site-packages/pandas/core/frame.py\u001b[0m in \u001b[0;36m__getitem__\u001b[0;34m(self, key)\u001b[0m\n\u001b[1;32m   3456\u001b[0m             \u001b[0;32mif\u001b[0m \u001b[0mself\u001b[0m\u001b[0;34m.\u001b[0m\u001b[0mcolumns\u001b[0m\u001b[0;34m.\u001b[0m\u001b[0mnlevels\u001b[0m \u001b[0;34m>\u001b[0m \u001b[0;36m1\u001b[0m\u001b[0;34m:\u001b[0m\u001b[0;34m\u001b[0m\u001b[0;34m\u001b[0m\u001b[0m\n\u001b[1;32m   3457\u001b[0m                 \u001b[0;32mreturn\u001b[0m \u001b[0mself\u001b[0m\u001b[0;34m.\u001b[0m\u001b[0m_getitem_multilevel\u001b[0m\u001b[0;34m(\u001b[0m\u001b[0mkey\u001b[0m\u001b[0;34m)\u001b[0m\u001b[0;34m\u001b[0m\u001b[0;34m\u001b[0m\u001b[0m\n\u001b[0;32m-> 3458\u001b[0;31m             \u001b[0mindexer\u001b[0m \u001b[0;34m=\u001b[0m \u001b[0mself\u001b[0m\u001b[0;34m.\u001b[0m\u001b[0mcolumns\u001b[0m\u001b[0;34m.\u001b[0m\u001b[0mget_loc\u001b[0m\u001b[0;34m(\u001b[0m\u001b[0mkey\u001b[0m\u001b[0;34m)\u001b[0m\u001b[0;34m\u001b[0m\u001b[0;34m\u001b[0m\u001b[0m\n\u001b[0m\u001b[1;32m   3459\u001b[0m             \u001b[0;32mif\u001b[0m \u001b[0mis_integer\u001b[0m\u001b[0;34m(\u001b[0m\u001b[0mindexer\u001b[0m\u001b[0;34m)\u001b[0m\u001b[0;34m:\u001b[0m\u001b[0;34m\u001b[0m\u001b[0;34m\u001b[0m\u001b[0m\n\u001b[1;32m   3460\u001b[0m                 \u001b[0mindexer\u001b[0m \u001b[0;34m=\u001b[0m \u001b[0;34m[\u001b[0m\u001b[0mindexer\u001b[0m\u001b[0;34m]\u001b[0m\u001b[0;34m\u001b[0m\u001b[0;34m\u001b[0m\u001b[0m\n",
      "\u001b[0;32m~/miniconda3/envs/amr2/lib/python3.7/site-packages/pandas/core/indexes/base.py\u001b[0m in \u001b[0;36mget_loc\u001b[0;34m(self, key, method, tolerance)\u001b[0m\n\u001b[1;32m   3361\u001b[0m                 \u001b[0;32mreturn\u001b[0m \u001b[0mself\u001b[0m\u001b[0;34m.\u001b[0m\u001b[0m_engine\u001b[0m\u001b[0;34m.\u001b[0m\u001b[0mget_loc\u001b[0m\u001b[0;34m(\u001b[0m\u001b[0mcasted_key\u001b[0m\u001b[0;34m)\u001b[0m\u001b[0;34m\u001b[0m\u001b[0;34m\u001b[0m\u001b[0m\n\u001b[1;32m   3362\u001b[0m             \u001b[0;32mexcept\u001b[0m \u001b[0mKeyError\u001b[0m \u001b[0;32mas\u001b[0m \u001b[0merr\u001b[0m\u001b[0;34m:\u001b[0m\u001b[0;34m\u001b[0m\u001b[0;34m\u001b[0m\u001b[0m\n\u001b[0;32m-> 3363\u001b[0;31m                 \u001b[0;32mraise\u001b[0m \u001b[0mKeyError\u001b[0m\u001b[0;34m(\u001b[0m\u001b[0mkey\u001b[0m\u001b[0;34m)\u001b[0m \u001b[0;32mfrom\u001b[0m \u001b[0merr\u001b[0m\u001b[0;34m\u001b[0m\u001b[0;34m\u001b[0m\u001b[0m\n\u001b[0m\u001b[1;32m   3364\u001b[0m \u001b[0;34m\u001b[0m\u001b[0m\n\u001b[1;32m   3365\u001b[0m         \u001b[0;32mif\u001b[0m \u001b[0mis_scalar\u001b[0m\u001b[0;34m(\u001b[0m\u001b[0mkey\u001b[0m\u001b[0;34m)\u001b[0m \u001b[0;32mand\u001b[0m \u001b[0misna\u001b[0m\u001b[0;34m(\u001b[0m\u001b[0mkey\u001b[0m\u001b[0;34m)\u001b[0m \u001b[0;32mand\u001b[0m \u001b[0;32mnot\u001b[0m \u001b[0mself\u001b[0m\u001b[0;34m.\u001b[0m\u001b[0mhasnans\u001b[0m\u001b[0;34m:\u001b[0m\u001b[0;34m\u001b[0m\u001b[0;34m\u001b[0m\u001b[0m\n",
      "\u001b[0;31mKeyError\u001b[0m: 'fewshot'"
     ]
    }
   ],
   "source": [
    "mscorpus_risec = transpose_results_df(\"mscorpus\", \"risec\")\n",
    "efgc_risec = transpose_results_df(\"japflow\", \"risec\")\n",
    "risec_mscorpus = transpose_results_df(\"risec\", \"mscorpus\")"
   ]
  },
  {
   "cell_type": "code",
   "execution_count": 37,
   "metadata": {},
   "outputs": [
    {
     "name": "stdout",
     "output_type": "stream",
     "text": [
      "Error with results/transfer_results_test_japflow_risec_1_1_amr_residual.csv\n",
      "Error with results/transfer_results_test_japflow_risec_10_1_amr_residual.csv\n",
      "Error with results/transfer_results_test_japflow_risec_50_1_amr_residual.csv\n",
      "Error with results/transfer_results_test_japflow_risec_100_1_amr_residual.csv\n"
     ]
    }
   ],
   "source": [
    "efgc_risec = transpose_results_df(\"japflow\", \"risec\")\n"
   ]
  },
  {
   "cell_type": "code",
   "execution_count": null,
   "metadata": {},
   "outputs": [],
   "source": []
  }
 ],
 "metadata": {
  "kernelspec": {
   "display_name": "Python 3.7.13 ('amr2')",
   "language": "python",
   "name": "python3"
  },
  "language_info": {
   "codemirror_mode": {
    "name": "ipython",
    "version": 3
   },
   "file_extension": ".py",
   "mimetype": "text/x-python",
   "name": "python",
   "nbconvert_exporter": "python",
   "pygments_lexer": "ipython3",
   "version": "3.7.13 (default, Mar 29 2022, 02:18:16) \n[GCC 7.5.0]"
  },
  "orig_nbformat": 4,
  "vscode": {
   "interpreter": {
    "hash": "aa6125668c898f1b71ffc1f214528a842df47e43f39f25f123e266e2c64fa563"
   }
  }
 },
 "nbformat": 4,
 "nbformat_minor": 2
}
