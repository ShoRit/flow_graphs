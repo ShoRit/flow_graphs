{
 "cells": [
  {
   "cell_type": "code",
   "execution_count": 1,
   "metadata": {},
   "outputs": [
    {
     "data": {
      "text/plain": [
       "['/home/sgururaj/src/flow_graphs',\n",
       " '/home/sgururaj/src/flow_graphs/code',\n",
       " '/home/sgururaj/src/flow_graphs/code/analysis_notebooks',\n",
       " '/home/sgururaj/.vscode-server/extensions/ms-toolsai.jupyter-2022.9.1303220346/pythonFiles',\n",
       " '/home/sgururaj/.vscode-server/extensions/ms-toolsai.jupyter-2022.9.1303220346/pythonFiles/lib/python',\n",
       " '/home/sgururaj/miniconda3/envs/amr/lib/python37.zip',\n",
       " '/home/sgururaj/miniconda3/envs/amr/lib/python3.7',\n",
       " '/home/sgururaj/miniconda3/envs/amr/lib/python3.7/lib-dynload',\n",
       " '',\n",
       " '/home/sgururaj/miniconda3/envs/amr/lib/python3.7/site-packages',\n",
       " '/home/sgururaj/miniconda3/envs/amr/lib/python3.7/site-packages/IPython/extensions',\n",
       " '/home/sgururaj/.ipython']"
      ]
     },
     "execution_count": 1,
     "metadata": {},
     "output_type": "execute_result"
    }
   ],
   "source": [
    "import sys\n",
    "sys.path.insert(1, \"/home/sgururaj/src/flow_graphs/code\")\n",
    "sys.path"
   ]
  },
  {
   "cell_type": "code",
   "execution_count": 2,
   "metadata": {},
   "outputs": [],
   "source": [
    "from collections import defaultdict, Counter\n",
    "from collections import defaultdict as ddict\n",
    "import itertools\n",
    "import json\n",
    "import pickle\n",
    "import random\n",
    "\n",
    "import dill\n",
    "from matplotlib import pyplot as plt\n",
    "import numpy as np\n",
    "from numpy.polynomial import Polynomial\n",
    "import pandas as pd\n",
    "from transformers import AutoTokenizer\n",
    "\n",
    "from amr.inspection import get_type_paths_for_relation\n",
    "from dataloading_utils import load_deprels"
   ]
  },
  {
   "cell_type": "code",
   "execution_count": 3,
   "metadata": {},
   "outputs": [],
   "source": [
    "pd.set_option(\"display.max_columns\", None)\n",
    "pd.set_option(\"display.max_rows\", None)"
   ]
  },
  {
   "cell_type": "code",
   "execution_count": 4,
   "metadata": {},
   "outputs": [],
   "source": [
    "datasets = [\"risec\", \"japflow\", \"mscorpus\"]"
   ]
  },
  {
   "cell_type": "code",
   "execution_count": 5,
   "metadata": {},
   "outputs": [
    {
     "name": "stderr",
     "output_type": "stream",
     "text": [
      "100%|██████████| 365/365 [00:00<00:00, 768149.00it/s]\n"
     ]
    }
   ],
   "source": [
    "amr_content = {}\n",
    "preprocessed_data = {}\n",
    "\n",
    "for dataset in datasets:\n",
    "    with open(f\"data/{dataset}/amr_train.pkl\", \"rb\") as f:\n",
    "        amr_content[dataset] = pickle.load(f)\n",
    "\n",
    "    with open(f\"data/{dataset}/data_amr.dill\", \"rb\") as f:\n",
    "        preprocessed_data[dataset] = dill.load(f)\n",
    "    \n",
    "\n",
    "with open(\"data/amr_rel2id.json\") as f:\n",
    "    amr_rel2id = json.load(f)\n",
    "\n",
    "amr_id2rel = {v:k for k, v in amr_rel2id.items()}\n",
    "\n",
    "deprels = load_deprels(\"data/enh_dep_rel.txt\")\n",
    "dep_id2rel = {v:k for k, v in deprels.items()}\n",
    "\n",
    "tokenizer = AutoTokenizer.from_pretrained(\"bert-base-uncased\")"
   ]
  },
  {
   "cell_type": "code",
   "execution_count": 6,
   "metadata": {},
   "outputs": [
    {
     "name": "stdout",
     "output_type": "stream",
     "text": [
      "[{'graph': <Graph object (top=z1) at 139858654008848>, 'text': '1) In a saucepan over low heat, stir together the half-and-half and sugar.'}, {'graph': <Graph object (top=z1) at 139858636292624>, 'text': ' 2) Whisk in egg yolks and cook until light custard forms; do not boil.'}, {'graph': <Graph object (top=z1) at 139858636301776>, 'text': ' 3) Remove from heat and cool, then place in refrigerator and chill overnight.'}, {'graph': <Graph object (top=z1) at 139858636314832>, 'text': ' 4) Into the chilled mixture, stir in vanilla, cream, dark rum, scotch, and vanilla ice cream. 5) Serve cold.'}, {'graph': None, 'text': ' '}]\n"
     ]
    }
   ],
   "source": [
    "print(amr_content[\"risec\"][0])"
   ]
  },
  {
   "cell_type": "code",
   "execution_count": 7,
   "metadata": {},
   "outputs": [
    {
     "name": "stdout",
     "output_type": "stream",
     "text": [
      "risec: 122/1006 sentences missing AMRs\n",
      "japflow: 0/2628 sentences missing AMRs\n",
      "mscorpus: 66/1308 sentences missing AMRs\n"
     ]
    }
   ],
   "source": [
    "\n",
    "\n",
    "for dataset in datasets:\n",
    "    total = 0\n",
    "    missing_amrs = 0\n",
    "    for instance in amr_content[dataset]:\n",
    "        for sentence in instance:\n",
    "            total += 1\n",
    "            if sentence[\"graph\"] is None:\n",
    "                missing_amrs += 1\n",
    "    print(f\"{dataset}: {missing_amrs}/{total} sentences missing AMRs\")\n",
    "    "
   ]
  },
  {
   "cell_type": "code",
   "execution_count": 8,
   "metadata": {},
   "outputs": [],
   "source": [
    "instance = random.choice(preprocessed_data[\"risec\"][\"train\"][\"rels\"])"
   ]
  },
  {
   "cell_type": "code",
   "execution_count": 9,
   "metadata": {},
   "outputs": [
    {
     "name": "stdout",
     "output_type": "stream",
     "text": [
      "pour\n",
      "to deglaze\n"
     ]
    }
   ],
   "source": [
    "print(tokenizer.decode(np.array(instance[\"tokens\"])[np.array(instance[\"arg1_ids\"]).astype(bool)]))\n",
    "print(tokenizer.decode(np.array(instance[\"tokens\"])[np.array(instance[\"arg2_ids\"]).astype(bool)]))\n"
   ]
  },
  {
   "cell_type": "code",
   "execution_count": 10,
   "metadata": {},
   "outputs": [
    {
     "name": "stdout",
     "output_type": "stream",
     "text": [
      "{\n",
      "    \"risec\": {\n",
      "        \"ArgM_LOC\": 231,\n",
      "        \"ArgM_MNR\": 227,\n",
      "        \"Arg_PPT\": 2219,\n",
      "        \"ArgM_TMP\": 440,\n",
      "        \"Arg_DIR\": 42,\n",
      "        \"Arg_GOL\": 349,\n",
      "        \"ArgM_INT\": 26,\n",
      "        \"ArgM_PRP\": 73,\n",
      "        \"Arg_PAG\": 10,\n",
      "        \"Arg_PRD\": 39,\n",
      "        \"ArgM_SIM\": 33\n",
      "    },\n",
      "    \"japflow\": {\n",
      "        \"targ\": 5458,\n",
      "        \"dest\": 1759,\n",
      "        \"other-mod\": 2426,\n",
      "        \"f-eq\": 980,\n",
      "        \"agent\": 600,\n",
      "        \"t-eq\": 267,\n",
      "        \"v-tm\": 553,\n",
      "        \"t-comp\": 557,\n",
      "        \"a-eq\": 222,\n",
      "        \"f-part-of\": 660,\n",
      "        \"f-comp\": 267,\n",
      "        \"t-part-of\": 190,\n",
      "        \"f-set\": 19\n",
      "    },\n",
      "    \"mscorpus\": {\n",
      "        \"Information_Of\": 3138,\n",
      "        \"Coref_Of\": 177,\n",
      "        \"Recipe_Precursor\": 674,\n",
      "        \"Number_Of\": 2127,\n",
      "        \"Next_Operation\": 2251,\n",
      "        \"Recipe_Target\": 271,\n",
      "        \"Apparatus_Of\": 358,\n",
      "        \"Solvent_Material\": 355,\n",
      "        \"Participant_Material\": 1462,\n",
      "        \"Condition_Of\": 1386,\n",
      "        \"Type_Of\": 131\n",
      "    }\n",
      "}\n"
     ]
    }
   ],
   "source": [
    "label_counts = {}\n",
    "\n",
    "for dataset in datasets:\n",
    "    labels = [instance[\"label\"] for instance in preprocessed_data[dataset][\"train\"][\"rels\"]]\n",
    "    label_counts[dataset] = Counter(labels)\n",
    "\n",
    "print(json.dumps(label_counts, indent=4))"
   ]
  },
  {
   "cell_type": "code",
   "execution_count": 11,
   "metadata": {},
   "outputs": [],
   "source": [
    "dataset_to_paths_info = {}\n",
    "\n",
    "for dataset in datasets:\n",
    "    dataset_to_paths_info[dataset] = {}\n",
    "    for split in [\"train\", \"dev\", \"test\"]:\n",
    "        label_to_amr_paths = defaultdict(list)\n",
    "        for instance in preprocessed_data[dataset][split][\"rels\"]:\n",
    "            label = instance[\"label\"]\n",
    "            graph_data = instance[\"amr_data\"]\n",
    "            type_paths = get_type_paths_for_relation(graph_data, amr_id2rel)\n",
    "            label_to_amr_paths[label].extend(type_paths)\n",
    "            label_to_amr_paths[\"ALL\"].extend(type_paths)\n",
    "        dataset_to_paths_info[dataset][split] = dict(label_to_amr_paths)\n"
   ]
  },
  {
   "cell_type": "code",
   "execution_count": 12,
   "metadata": {},
   "outputs": [],
   "source": [
    "atomic_counters = {}\n",
    "\n",
    "for dataset in datasets:\n",
    "    atomic_counters[dataset] = {}\n",
    "    for split in [\"train\", \"dev\", \"test\"]:\n",
    "        dataset_counters = {}\n",
    "        atomic_counters[dataset][split] = dataset_counters\n",
    "        paths_info = dataset_to_paths_info[dataset][split]\n",
    "        for label, paths in paths_info.items():\n",
    "            path_tuples = [tuple(path) for path in paths]\n",
    "            dataset_counters[label] = Counter(path_tuples)\n",
    "\n",
    "\n",
    "unigram_counters = {}\n",
    "\n",
    "for dataset in datasets:\n",
    "    unigram_counters[dataset] = {}\n",
    "    for split in [\"train\", \"dev\", \"test\"]:\n",
    "        dataset_counters = {}\n",
    "        unigram_counters[dataset][split] = dataset_counters\n",
    "        paths_info = dataset_to_paths_info[dataset][split]\n",
    "        for label, paths in paths_info.items():\n",
    "            path_units = list(itertools.chain(*paths))\n",
    "            dataset_counters[label] = Counter(path_units)\n",
    "\n",
    "\n",
    "bigram_counters = {}\n",
    "\n",
    "def tile_into_ngrams(path, n):\n",
    "    return [tuple(path[i: i + (n)]) for i in range(len(path) - (n-1))]\n",
    "\n",
    "for dataset in datasets:\n",
    "    bigram_counters[dataset] = {}\n",
    "    for split in [\"train\", \"dev\", \"test\"]:\n",
    "        dataset_counters = {}\n",
    "        bigram_counters[dataset][split] = dataset_counters\n",
    "        paths_info = dataset_to_paths_info[dataset][split]\n",
    "        for label, paths in paths_info.items():\n",
    "            path_units = list(itertools.chain(*[tile_into_ngrams(path, 2) for path in paths]))\n",
    "            dataset_counters[label] = Counter(path_units)\n"
   ]
  },
  {
   "cell_type": "code",
   "execution_count": 13,
   "metadata": {},
   "outputs": [
    {
     "name": "stdout",
     "output_type": "stream",
     "text": [
      "5204\n"
     ]
    },
    {
     "data": {
      "text/plain": [
       "[((':arg1',), 531),\n",
       " ((':arg2',), 297),\n",
       " ((':op2', ':op1'), 155),\n",
       " ((':location',), 132),\n",
       " ((':arg1', ':op1'), 132),\n",
       " ((':arg1', ':op2'), 132),\n",
       " (('STAR', 'STAR'), 118),\n",
       " ((':li', 'STAR', 'STAR'), 115),\n",
       " ((':time',), 105),\n",
       " ((':time', ':op1'), 96)]"
      ]
     },
     "execution_count": 13,
     "metadata": {},
     "output_type": "execute_result"
    }
   ],
   "source": [
    "label = \"ALL\"\n",
    "\n",
    "print(len(dataset_to_paths_info[\"risec\"][\"train\"][label]))\n",
    "atomic_counters[\"risec\"][\"train\"][label].most_common(10)"
   ]
  },
  {
   "cell_type": "code",
   "execution_count": 14,
   "metadata": {},
   "outputs": [],
   "source": [
    "def get_counter_total(counter):\n",
    "    return sum(counter.values())"
   ]
  },
  {
   "cell_type": "code",
   "execution_count": 15,
   "metadata": {},
   "outputs": [],
   "source": [
    "def kl_divergence(src_distro_counter, tgt_distro_counter):\n",
    "    src_norm = sum(src_distro_counter.values())\n",
    "    tgt_norm = sum(tgt_distro_counter.values())\n",
    "\n",
    "    src_smoothing_factor = len([path for path in tgt_distro_counter if path not in src_distro_counter])\n",
    "    src_norm += src_smoothing_factor\n",
    "\n",
    "    tgt_smoothing_factor = len([path for path in src_distro_counter if path not in tgt_distro_counter])\n",
    "    tgt_norm += tgt_smoothing_factor\n",
    "\n",
    "    all_keys = set(src_distro_counter.keys())#.union(set(tgt_distro_counter.keys()))\n",
    "\n",
    "    divergence = 0\n",
    "    for key in all_keys:\n",
    "        p_x = src_distro_counter.get(key, 1)/src_norm\n",
    "        q_x = tgt_distro_counter.get(key, 1)/tgt_norm\n",
    "\n",
    "        if p_x == 0 or q_x == 0:\n",
    "            continue\n",
    "\n",
    "        divergence += p_x * np.log(p_x/q_x)\n",
    "\n",
    "    return divergence\n",
    "\n",
    "\n",
    "def gini_coefficient(distro_counter):\n",
    "    n = len(distro_counter)\n",
    "    mean = sum(distro_counter.values()) / n\n",
    "    rma_diff = 0\n",
    "    for key_i, count_i in distro_counter.items():\n",
    "        for key_j, count_j in distro_counter.items():\n",
    "            rma_diff += np.abs(count_i - count_j)\n",
    "    \n",
    "    gini_coef = rma_diff / (2 * n**2 * mean)\n",
    "    return gini_coef"
   ]
  },
  {
   "cell_type": "code",
   "execution_count": 16,
   "metadata": {},
   "outputs": [
    {
     "data": {
      "text/plain": [
       "0.7310122341069613"
      ]
     },
     "execution_count": 16,
     "metadata": {},
     "output_type": "execute_result"
    }
   ],
   "source": [
    "gini_coefficient(atomic_counters[\"japflow\"][\"test\"][\"ALL\"])"
   ]
  },
  {
   "cell_type": "code",
   "execution_count": 17,
   "metadata": {},
   "outputs": [
    {
     "data": {
      "text/plain": [
       "0.8310279775055235"
      ]
     },
     "execution_count": 17,
     "metadata": {},
     "output_type": "execute_result"
    }
   ],
   "source": [
    "kl_divergence(unigram_counters[\"mscorpus\"][\"train\"][\"ALL\"], unigram_counters[\"risec\"][\"test\"][\"ArgM_INT\"])"
   ]
  },
  {
   "cell_type": "code",
   "execution_count": 18,
   "metadata": {},
   "outputs": [
    {
     "data": {
      "text/plain": [
       "1.29457931484445"
      ]
     },
     "execution_count": 18,
     "metadata": {},
     "output_type": "execute_result"
    }
   ],
   "source": [
    "kl_divergence(unigram_counters[\"mscorpus\"][\"train\"][\"ALL\"], unigram_counters[\"risec\"][\"test\"][\"ArgM_LOC\"])"
   ]
  },
  {
   "cell_type": "code",
   "execution_count": 19,
   "metadata": {},
   "outputs": [],
   "source": [
    "metrics_dicts = []\n",
    "\n",
    "COUNTER_TYPE = \"atomic\"\n",
    "\n",
    "counter_types = {\n",
    "    \"atomic\": atomic_counters,\n",
    "    \"unigram\": unigram_counters, \n",
    "    \"bigram\": bigram_counters\n",
    "\n",
    "}\n",
    "\n",
    "counters = counter_types[COUNTER_TYPE]\n",
    "\n",
    "for src_dataset in datasets:\n",
    "    for tgt_dataset in datasets:\n",
    "        for label in counters[tgt_dataset][\"train\"]:\n",
    "            src_counter = counters[src_dataset][\"train\"][\"ALL\"]\n",
    "            tgt_counter = counters[tgt_dataset][\"test\"][label]\n",
    "            div = kl_divergence(src_counter, tgt_counter)\n",
    "            gini_coef = gini_coefficient(tgt_counter)\n",
    "            metrics_dicts.append({\"src_dataset\": src_dataset, \"tgt_dataset\": tgt_dataset, \"label\": label,\"gini\": gini_coef, \"KL_divergence\": div})\n",
    "\n",
    "div_df = pd.DataFrame(metrics_dicts)\n"
   ]
  },
  {
   "cell_type": "code",
   "execution_count": 20,
   "metadata": {},
   "outputs": [
    {
     "data": {
      "text/html": [
       "<div>\n",
       "<style scoped>\n",
       "    .dataframe tbody tr th:only-of-type {\n",
       "        vertical-align: middle;\n",
       "    }\n",
       "\n",
       "    .dataframe tbody tr th {\n",
       "        vertical-align: top;\n",
       "    }\n",
       "\n",
       "    .dataframe thead th {\n",
       "        text-align: right;\n",
       "    }\n",
       "</style>\n",
       "<table border=\"1\" class=\"dataframe\">\n",
       "  <thead>\n",
       "    <tr style=\"text-align: right;\">\n",
       "      <th></th>\n",
       "      <th>label</th>\n",
       "      <th>amr_residual</th>\n",
       "      <th>dep_residual</th>\n",
       "      <th>plaintext</th>\n",
       "      <th>diff</th>\n",
       "    </tr>\n",
       "  </thead>\n",
       "  <tbody>\n",
       "    <tr>\n",
       "      <th>0</th>\n",
       "      <td>ArgM_INT</td>\n",
       "      <td>0.296027</td>\n",
       "      <td>0.311405</td>\n",
       "      <td>0.312095</td>\n",
       "      <td>-0.016069</td>\n",
       "    </tr>\n",
       "    <tr>\n",
       "      <th>1</th>\n",
       "      <td>ArgM_LOC</td>\n",
       "      <td>0.706637</td>\n",
       "      <td>0.729672</td>\n",
       "      <td>0.612195</td>\n",
       "      <td>0.094442</td>\n",
       "    </tr>\n",
       "    <tr>\n",
       "      <th>2</th>\n",
       "      <td>ArgM_MNR</td>\n",
       "      <td>0.799699</td>\n",
       "      <td>0.798973</td>\n",
       "      <td>0.732482</td>\n",
       "      <td>0.067217</td>\n",
       "    </tr>\n",
       "    <tr>\n",
       "      <th>3</th>\n",
       "      <td>ArgM_PRP</td>\n",
       "      <td>0.691953</td>\n",
       "      <td>0.656703</td>\n",
       "      <td>0.381186</td>\n",
       "      <td>0.310767</td>\n",
       "    </tr>\n",
       "    <tr>\n",
       "      <th>4</th>\n",
       "      <td>ArgM_SIM</td>\n",
       "      <td>0.170899</td>\n",
       "      <td>0.205415</td>\n",
       "      <td>0.186743</td>\n",
       "      <td>-0.015844</td>\n",
       "    </tr>\n",
       "    <tr>\n",
       "      <th>5</th>\n",
       "      <td>ArgM_TMP</td>\n",
       "      <td>0.891340</td>\n",
       "      <td>0.864680</td>\n",
       "      <td>0.786510</td>\n",
       "      <td>0.104829</td>\n",
       "    </tr>\n",
       "    <tr>\n",
       "      <th>6</th>\n",
       "      <td>Arg_DIR</td>\n",
       "      <td>0.347665</td>\n",
       "      <td>0.375205</td>\n",
       "      <td>0.311650</td>\n",
       "      <td>0.036015</td>\n",
       "    </tr>\n",
       "    <tr>\n",
       "      <th>7</th>\n",
       "      <td>Arg_GOL</td>\n",
       "      <td>0.377467</td>\n",
       "      <td>0.344610</td>\n",
       "      <td>0.371211</td>\n",
       "      <td>0.006256</td>\n",
       "    </tr>\n",
       "    <tr>\n",
       "      <th>8</th>\n",
       "      <td>Arg_PAG</td>\n",
       "      <td>0.214652</td>\n",
       "      <td>0.262043</td>\n",
       "      <td>0.207170</td>\n",
       "      <td>0.007482</td>\n",
       "    </tr>\n",
       "    <tr>\n",
       "      <th>9</th>\n",
       "      <td>Arg_PPT</td>\n",
       "      <td>0.659811</td>\n",
       "      <td>0.688708</td>\n",
       "      <td>0.650214</td>\n",
       "      <td>0.009596</td>\n",
       "    </tr>\n",
       "    <tr>\n",
       "      <th>10</th>\n",
       "      <td>Arg_PRD</td>\n",
       "      <td>0.400998</td>\n",
       "      <td>0.492304</td>\n",
       "      <td>0.458221</td>\n",
       "      <td>-0.057223</td>\n",
       "    </tr>\n",
       "  </tbody>\n",
       "</table>\n",
       "</div>"
      ],
      "text/plain": [
       "       label  amr_residual  dep_residual  plaintext      diff\n",
       "0   ArgM_INT      0.296027      0.311405   0.312095 -0.016069\n",
       "1   ArgM_LOC      0.706637      0.729672   0.612195  0.094442\n",
       "2   ArgM_MNR      0.799699      0.798973   0.732482  0.067217\n",
       "3   ArgM_PRP      0.691953      0.656703   0.381186  0.310767\n",
       "4   ArgM_SIM      0.170899      0.205415   0.186743 -0.015844\n",
       "5   ArgM_TMP      0.891340      0.864680   0.786510  0.104829\n",
       "6    Arg_DIR      0.347665      0.375205   0.311650  0.036015\n",
       "7    Arg_GOL      0.377467      0.344610   0.371211  0.006256\n",
       "8    Arg_PAG      0.214652      0.262043   0.207170  0.007482\n",
       "9    Arg_PPT      0.659811      0.688708   0.650214  0.009596\n",
       "10   Arg_PRD      0.400998      0.492304   0.458221 -0.057223"
      ]
     },
     "execution_count": 20,
     "metadata": {},
     "output_type": "execute_result"
    }
   ],
   "source": [
    "msc_risec_df = pd.read_csv(\"mscorpus_risec_50.csv\")\n",
    "msc_risec_df[\"label\"] = msc_risec_df[\"label\"].str.replace(\"_f1\", \"\")\n",
    "msc_risec_df[\"diff\"] = msc_risec_df[\"amr_residual\"] - msc_risec_df[\"plaintext\"]\n",
    "msc_risec_df"
   ]
  },
  {
   "cell_type": "code",
   "execution_count": 21,
   "metadata": {},
   "outputs": [
    {
     "data": {
      "text/html": [
       "<div>\n",
       "<style scoped>\n",
       "    .dataframe tbody tr th:only-of-type {\n",
       "        vertical-align: middle;\n",
       "    }\n",
       "\n",
       "    .dataframe tbody tr th {\n",
       "        vertical-align: top;\n",
       "    }\n",
       "\n",
       "    .dataframe thead th {\n",
       "        text-align: right;\n",
       "    }\n",
       "</style>\n",
       "<table border=\"1\" class=\"dataframe\">\n",
       "  <thead>\n",
       "    <tr style=\"text-align: right;\">\n",
       "      <th></th>\n",
       "      <th>src_dataset</th>\n",
       "      <th>tgt_dataset</th>\n",
       "      <th>label</th>\n",
       "      <th>gini</th>\n",
       "      <th>KL_divergence</th>\n",
       "    </tr>\n",
       "  </thead>\n",
       "  <tbody>\n",
       "    <tr>\n",
       "      <th>76</th>\n",
       "      <td>mscorpus</td>\n",
       "      <td>risec</td>\n",
       "      <td>ArgM_LOC</td>\n",
       "      <td>0.736224</td>\n",
       "      <td>1.294579</td>\n",
       "    </tr>\n",
       "    <tr>\n",
       "      <th>77</th>\n",
       "      <td>mscorpus</td>\n",
       "      <td>risec</td>\n",
       "      <td>ALL</td>\n",
       "      <td>0.752862</td>\n",
       "      <td>0.526948</td>\n",
       "    </tr>\n",
       "    <tr>\n",
       "      <th>78</th>\n",
       "      <td>mscorpus</td>\n",
       "      <td>risec</td>\n",
       "      <td>ArgM_MNR</td>\n",
       "      <td>0.533333</td>\n",
       "      <td>1.118013</td>\n",
       "    </tr>\n",
       "    <tr>\n",
       "      <th>79</th>\n",
       "      <td>mscorpus</td>\n",
       "      <td>risec</td>\n",
       "      <td>Arg_PPT</td>\n",
       "      <td>0.790866</td>\n",
       "      <td>0.824663</td>\n",
       "    </tr>\n",
       "    <tr>\n",
       "      <th>80</th>\n",
       "      <td>mscorpus</td>\n",
       "      <td>risec</td>\n",
       "      <td>ArgM_TMP</td>\n",
       "      <td>0.760110</td>\n",
       "      <td>1.145788</td>\n",
       "    </tr>\n",
       "    <tr>\n",
       "      <th>81</th>\n",
       "      <td>mscorpus</td>\n",
       "      <td>risec</td>\n",
       "      <td>Arg_DIR</td>\n",
       "      <td>0.416667</td>\n",
       "      <td>0.995009</td>\n",
       "    </tr>\n",
       "    <tr>\n",
       "      <th>82</th>\n",
       "      <td>mscorpus</td>\n",
       "      <td>risec</td>\n",
       "      <td>Arg_GOL</td>\n",
       "      <td>0.652869</td>\n",
       "      <td>0.866316</td>\n",
       "    </tr>\n",
       "    <tr>\n",
       "      <th>83</th>\n",
       "      <td>mscorpus</td>\n",
       "      <td>risec</td>\n",
       "      <td>ArgM_INT</td>\n",
       "      <td>0.388290</td>\n",
       "      <td>0.831028</td>\n",
       "    </tr>\n",
       "    <tr>\n",
       "      <th>84</th>\n",
       "      <td>mscorpus</td>\n",
       "      <td>risec</td>\n",
       "      <td>ArgM_PRP</td>\n",
       "      <td>0.641547</td>\n",
       "      <td>1.145421</td>\n",
       "    </tr>\n",
       "    <tr>\n",
       "      <th>85</th>\n",
       "      <td>mscorpus</td>\n",
       "      <td>risec</td>\n",
       "      <td>Arg_PAG</td>\n",
       "      <td>0.425000</td>\n",
       "      <td>1.039077</td>\n",
       "    </tr>\n",
       "    <tr>\n",
       "      <th>86</th>\n",
       "      <td>mscorpus</td>\n",
       "      <td>risec</td>\n",
       "      <td>Arg_PRD</td>\n",
       "      <td>0.440237</td>\n",
       "      <td>1.110292</td>\n",
       "    </tr>\n",
       "    <tr>\n",
       "      <th>87</th>\n",
       "      <td>mscorpus</td>\n",
       "      <td>risec</td>\n",
       "      <td>ArgM_SIM</td>\n",
       "      <td>0.360000</td>\n",
       "      <td>1.055601</td>\n",
       "    </tr>\n",
       "  </tbody>\n",
       "</table>\n",
       "</div>"
      ],
      "text/plain": [
       "   src_dataset tgt_dataset     label      gini  KL_divergence\n",
       "76    mscorpus       risec  ArgM_LOC  0.736224       1.294579\n",
       "77    mscorpus       risec       ALL  0.752862       0.526948\n",
       "78    mscorpus       risec  ArgM_MNR  0.533333       1.118013\n",
       "79    mscorpus       risec   Arg_PPT  0.790866       0.824663\n",
       "80    mscorpus       risec  ArgM_TMP  0.760110       1.145788\n",
       "81    mscorpus       risec   Arg_DIR  0.416667       0.995009\n",
       "82    mscorpus       risec   Arg_GOL  0.652869       0.866316\n",
       "83    mscorpus       risec  ArgM_INT  0.388290       0.831028\n",
       "84    mscorpus       risec  ArgM_PRP  0.641547       1.145421\n",
       "85    mscorpus       risec   Arg_PAG  0.425000       1.039077\n",
       "86    mscorpus       risec   Arg_PRD  0.440237       1.110292\n",
       "87    mscorpus       risec  ArgM_SIM  0.360000       1.055601"
      ]
     },
     "execution_count": 21,
     "metadata": {},
     "output_type": "execute_result"
    }
   ],
   "source": [
    "div_msc_risec = div_df[(div_df[\"src_dataset\"]==\"mscorpus\") & (div_df[\"tgt_dataset\"] == \"risec\")]\n",
    "div_msc_risec"
   ]
  },
  {
   "cell_type": "code",
   "execution_count": 22,
   "metadata": {},
   "outputs": [
    {
     "data": {
      "text/html": [
       "<div>\n",
       "<style scoped>\n",
       "    .dataframe tbody tr th:only-of-type {\n",
       "        vertical-align: middle;\n",
       "    }\n",
       "\n",
       "    .dataframe tbody tr th {\n",
       "        vertical-align: top;\n",
       "    }\n",
       "\n",
       "    .dataframe thead th {\n",
       "        text-align: right;\n",
       "    }\n",
       "</style>\n",
       "<table border=\"1\" class=\"dataframe\">\n",
       "  <thead>\n",
       "    <tr style=\"text-align: right;\">\n",
       "      <th></th>\n",
       "      <th>src_dataset</th>\n",
       "      <th>tgt_dataset</th>\n",
       "      <th>label</th>\n",
       "      <th>gini</th>\n",
       "      <th>KL_divergence</th>\n",
       "      <th>amr_residual</th>\n",
       "      <th>dep_residual</th>\n",
       "      <th>plaintext</th>\n",
       "      <th>diff</th>\n",
       "    </tr>\n",
       "  </thead>\n",
       "  <tbody>\n",
       "    <tr>\n",
       "      <th>0</th>\n",
       "      <td>mscorpus</td>\n",
       "      <td>risec</td>\n",
       "      <td>ArgM_LOC</td>\n",
       "      <td>0.736224</td>\n",
       "      <td>1.294579</td>\n",
       "      <td>0.706637</td>\n",
       "      <td>0.729672</td>\n",
       "      <td>0.612195</td>\n",
       "      <td>0.094442</td>\n",
       "    </tr>\n",
       "    <tr>\n",
       "      <th>1</th>\n",
       "      <td>mscorpus</td>\n",
       "      <td>risec</td>\n",
       "      <td>ArgM_MNR</td>\n",
       "      <td>0.533333</td>\n",
       "      <td>1.118013</td>\n",
       "      <td>0.799699</td>\n",
       "      <td>0.798973</td>\n",
       "      <td>0.732482</td>\n",
       "      <td>0.067217</td>\n",
       "    </tr>\n",
       "    <tr>\n",
       "      <th>2</th>\n",
       "      <td>mscorpus</td>\n",
       "      <td>risec</td>\n",
       "      <td>Arg_PPT</td>\n",
       "      <td>0.790866</td>\n",
       "      <td>0.824663</td>\n",
       "      <td>0.659811</td>\n",
       "      <td>0.688708</td>\n",
       "      <td>0.650214</td>\n",
       "      <td>0.009596</td>\n",
       "    </tr>\n",
       "    <tr>\n",
       "      <th>3</th>\n",
       "      <td>mscorpus</td>\n",
       "      <td>risec</td>\n",
       "      <td>ArgM_TMP</td>\n",
       "      <td>0.760110</td>\n",
       "      <td>1.145788</td>\n",
       "      <td>0.891340</td>\n",
       "      <td>0.864680</td>\n",
       "      <td>0.786510</td>\n",
       "      <td>0.104829</td>\n",
       "    </tr>\n",
       "    <tr>\n",
       "      <th>4</th>\n",
       "      <td>mscorpus</td>\n",
       "      <td>risec</td>\n",
       "      <td>Arg_DIR</td>\n",
       "      <td>0.416667</td>\n",
       "      <td>0.995009</td>\n",
       "      <td>0.347665</td>\n",
       "      <td>0.375205</td>\n",
       "      <td>0.311650</td>\n",
       "      <td>0.036015</td>\n",
       "    </tr>\n",
       "    <tr>\n",
       "      <th>5</th>\n",
       "      <td>mscorpus</td>\n",
       "      <td>risec</td>\n",
       "      <td>Arg_GOL</td>\n",
       "      <td>0.652869</td>\n",
       "      <td>0.866316</td>\n",
       "      <td>0.377467</td>\n",
       "      <td>0.344610</td>\n",
       "      <td>0.371211</td>\n",
       "      <td>0.006256</td>\n",
       "    </tr>\n",
       "    <tr>\n",
       "      <th>6</th>\n",
       "      <td>mscorpus</td>\n",
       "      <td>risec</td>\n",
       "      <td>ArgM_INT</td>\n",
       "      <td>0.388290</td>\n",
       "      <td>0.831028</td>\n",
       "      <td>0.296027</td>\n",
       "      <td>0.311405</td>\n",
       "      <td>0.312095</td>\n",
       "      <td>-0.016069</td>\n",
       "    </tr>\n",
       "    <tr>\n",
       "      <th>7</th>\n",
       "      <td>mscorpus</td>\n",
       "      <td>risec</td>\n",
       "      <td>ArgM_PRP</td>\n",
       "      <td>0.641547</td>\n",
       "      <td>1.145421</td>\n",
       "      <td>0.691953</td>\n",
       "      <td>0.656703</td>\n",
       "      <td>0.381186</td>\n",
       "      <td>0.310767</td>\n",
       "    </tr>\n",
       "    <tr>\n",
       "      <th>8</th>\n",
       "      <td>mscorpus</td>\n",
       "      <td>risec</td>\n",
       "      <td>Arg_PAG</td>\n",
       "      <td>0.425000</td>\n",
       "      <td>1.039077</td>\n",
       "      <td>0.214652</td>\n",
       "      <td>0.262043</td>\n",
       "      <td>0.207170</td>\n",
       "      <td>0.007482</td>\n",
       "    </tr>\n",
       "    <tr>\n",
       "      <th>9</th>\n",
       "      <td>mscorpus</td>\n",
       "      <td>risec</td>\n",
       "      <td>Arg_PRD</td>\n",
       "      <td>0.440237</td>\n",
       "      <td>1.110292</td>\n",
       "      <td>0.400998</td>\n",
       "      <td>0.492304</td>\n",
       "      <td>0.458221</td>\n",
       "      <td>-0.057223</td>\n",
       "    </tr>\n",
       "    <tr>\n",
       "      <th>10</th>\n",
       "      <td>mscorpus</td>\n",
       "      <td>risec</td>\n",
       "      <td>ArgM_SIM</td>\n",
       "      <td>0.360000</td>\n",
       "      <td>1.055601</td>\n",
       "      <td>0.170899</td>\n",
       "      <td>0.205415</td>\n",
       "      <td>0.186743</td>\n",
       "      <td>-0.015844</td>\n",
       "    </tr>\n",
       "  </tbody>\n",
       "</table>\n",
       "</div>"
      ],
      "text/plain": [
       "   src_dataset tgt_dataset     label      gini  KL_divergence  amr_residual  \\\n",
       "0     mscorpus       risec  ArgM_LOC  0.736224       1.294579      0.706637   \n",
       "1     mscorpus       risec  ArgM_MNR  0.533333       1.118013      0.799699   \n",
       "2     mscorpus       risec   Arg_PPT  0.790866       0.824663      0.659811   \n",
       "3     mscorpus       risec  ArgM_TMP  0.760110       1.145788      0.891340   \n",
       "4     mscorpus       risec   Arg_DIR  0.416667       0.995009      0.347665   \n",
       "5     mscorpus       risec   Arg_GOL  0.652869       0.866316      0.377467   \n",
       "6     mscorpus       risec  ArgM_INT  0.388290       0.831028      0.296027   \n",
       "7     mscorpus       risec  ArgM_PRP  0.641547       1.145421      0.691953   \n",
       "8     mscorpus       risec   Arg_PAG  0.425000       1.039077      0.214652   \n",
       "9     mscorpus       risec   Arg_PRD  0.440237       1.110292      0.400998   \n",
       "10    mscorpus       risec  ArgM_SIM  0.360000       1.055601      0.170899   \n",
       "\n",
       "    dep_residual  plaintext      diff  \n",
       "0       0.729672   0.612195  0.094442  \n",
       "1       0.798973   0.732482  0.067217  \n",
       "2       0.688708   0.650214  0.009596  \n",
       "3       0.864680   0.786510  0.104829  \n",
       "4       0.375205   0.311650  0.036015  \n",
       "5       0.344610   0.371211  0.006256  \n",
       "6       0.311405   0.312095 -0.016069  \n",
       "7       0.656703   0.381186  0.310767  \n",
       "8       0.262043   0.207170  0.007482  \n",
       "9       0.492304   0.458221 -0.057223  \n",
       "10      0.205415   0.186743 -0.015844  "
      ]
     },
     "execution_count": 22,
     "metadata": {},
     "output_type": "execute_result"
    }
   ],
   "source": [
    "joint_df = div_msc_risec.merge(msc_risec_df, on=\"label\")\n",
    "joint_df"
   ]
  },
  {
   "cell_type": "code",
   "execution_count": 23,
   "metadata": {},
   "outputs": [
    {
     "data": {
      "text/plain": [
       "<matplotlib.collections.PathCollection at 0x7f333ee7ad50>"
      ]
     },
     "execution_count": 23,
     "metadata": {},
     "output_type": "execute_result"
    },
    {
     "data": {
      "image/png": "[encoded data removed]",
      "text/plain": [
       "<Figure size 720x576 with 1 Axes>"
      ]
     },
     "metadata": {
      "needs_background": "light"
     },
     "output_type": "display_data"
    }
   ],
   "source": [
    "fig, ax = plt.subplots(figsize=(10,8))\n",
    "ax.set_title(\"KL Divergence vs AMR F1 difference, Atomic Counting\")\n",
    "ax.grid()\n",
    "ax.set_xlabel(\"KL Divergence\")\n",
    "ax.set_ylabel(\"F1 differential\")\n",
    "\n",
    "ax.scatter(x=joint_df[\"KL_divergence\"], y=joint_df[\"diff\"])"
   ]
  },
  {
   "cell_type": "code",
   "execution_count": 24,
   "metadata": {},
   "outputs": [],
   "source": [
    "def plot_best_fit_line(x, y, ax):\n",
    "    fit_poly = Polynomial.fit(x, y, deg=1)\n",
    "    b,m = fit_poly.coef \n",
    "\n",
    "    "
   ]
  },
  {
   "cell_type": "code",
   "execution_count": 25,
   "metadata": {},
   "outputs": [
    {
     "data": {
      "text/plain": [
       "<matplotlib.collections.PathCollection at 0x7f333ece6750>"
      ]
     },
     "execution_count": 25,
     "metadata": {},
     "output_type": "execute_result"
    },
    {
     "data": {
      "image/png": "[encoded data removed]",
      "text/plain": [
       "<Figure size 720x576 with 1 Axes>"
      ]
     },
     "metadata": {
      "needs_background": "light"
     },
     "output_type": "display_data"
    }
   ],
   "source": [
    "fig, ax = plt.subplots(figsize=(10,8))\n",
    "ax.set_title(f\"Gini Coefficient vs AMR F1 difference, {COUNTER_TYPE} Counting\")\n",
    "ax.grid()\n",
    "ax.set_xlabel(\"Gini Coefficient\")\n",
    "ax.set_ylabel(\"F1 differential\")\n",
    "\n",
    "fit_poly = Polynomial.fit(joint_df[\"gini\"], y=joint_df[\"diff\"], deg=1)\n",
    "m,b = fit_poly.coef\n",
    "xvals = fit_poly.domain\n",
    "yvals = m*xvals + b\n",
    "ax.plot(xvals, yvals, color=\"red\")\n",
    "\n",
    "ax.scatter(x=joint_df[\"gini\"], y=joint_df[\"diff\"])"
   ]
  },
  {
   "cell_type": "code",
   "execution_count": null,
   "metadata": {},
   "outputs": [],
   "source": []
  }
 ],
 "metadata": {
  "kernelspec": {
   "display_name": "Python 3.7.13 ('amr')",
   "language": "python",
   "name": "python3"
  },
  "language_info": {
   "codemirror_mode": {
    "name": "ipython",
    "version": 3
   },
   "file_extension": ".py",
   "mimetype": "text/x-python",
   "name": "python",
   "nbconvert_exporter": "python",
   "pygments_lexer": "ipython3",
   "version": "3.7.13"
  },
  "orig_nbformat": 4,
  "vscode": {
   "interpreter": {
    "hash": "15f5e375069666dc0043f025846b2147d0b69ccf108203ce9d906132ec410d80"
   }
  }
 },
 "nbformat": 4,
 "nbformat_minor": 2
}
