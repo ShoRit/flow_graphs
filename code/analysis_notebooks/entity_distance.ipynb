{
 "cells": [
  {
   "cell_type": "code",
   "execution_count": 71,
   "metadata": {},
   "outputs": [],
   "source": [
    "import dill\n",
    "import networkx as nx\n",
    "import numpy as np\n",
    "import pandas as pd\n",
    "from torch_geometric.utils import to_networkx\n",
    "from tqdm.autonotebook import tqdm"
   ]
  },
  {
   "cell_type": "code",
   "execution_count": 66,
   "metadata": {},
   "outputs": [],
   "source": [
    "def get_distance(graph_data):\n",
    "    nx_graph = to_networkx(graph_data).to_undirected()\n",
    "    n1_indices = np.nonzero(graph_data.n1_mask).flatten().tolist()\n",
    "    n2_indices = np.nonzero(graph_data.n2_mask).flatten().tolist()\n",
    "\n",
    "    min_distance = 1e10\n",
    "    for n1_index in n1_indices:\n",
    "        for n2_index in n2_indices:\n",
    "            shortest_path = nx.shortest_path(nx_graph, n1_index, n2_index)\n",
    "            path_len = len(shortest_path)\n",
    "            if path_len < min_distance:\n",
    "                min_distance = path_len\n",
    "    return min_distance"
   ]
  },
  {
   "cell_type": "code",
   "execution_count": 73,
   "metadata": {},
   "outputs": [
    {
     "data": {
      "application/vnd.jupyter.widget-view+json": {
       "model_id": "239d238103914b56828856247eb85918",
       "version_major": 2,
       "version_minor": 0
      },
      "text/plain": [
       "  0%|          | 0/4 [00:00<?, ?it/s]"
      ]
     },
     "metadata": {},
     "output_type": "display_data"
    },
    {
     "data": {
      "application/vnd.jupyter.widget-view+json": {
       "model_id": "65b3b4a6e4cd42debf5741196e5262b6",
       "version_major": 2,
       "version_minor": 0
      },
      "text/plain": [
       "  0%|          | 0/3689 [00:01<?, ?it/s]"
      ]
     },
     "metadata": {},
     "output_type": "display_data"
    },
    {
     "data": {
      "application/vnd.jupyter.widget-view+json": {
       "model_id": "07df02930be947f6bc4ce4e5a1749049",
       "version_major": 2,
       "version_minor": 0
      },
      "text/plain": [
       "  0%|          | 0/1689 [00:00<?, ?it/s]"
      ]
     },
     "metadata": {},
     "output_type": "display_data"
    },
    {
     "data": {
      "application/vnd.jupyter.widget-view+json": {
       "model_id": "225cfc37cd9343f8a4c731c86ea012f4",
       "version_major": 2,
       "version_minor": 0
      },
      "text/plain": [
       "  0%|          | 0/2213 [00:00<?, ?it/s]"
      ]
     },
     "metadata": {},
     "output_type": "display_data"
    },
    {
     "data": {
      "application/vnd.jupyter.widget-view+json": {
       "model_id": "7bc84a89e9b34e23b9c7c3d3da054eec",
       "version_major": 2,
       "version_minor": 0
      },
      "text/plain": [
       "  0%|          | 0/13958 [00:00<?, ?it/s]"
      ]
     },
     "metadata": {},
     "output_type": "display_data"
    },
    {
     "data": {
      "application/vnd.jupyter.widget-view+json": {
       "model_id": "0815eb5d5dc142268c4162a8aef72a4a",
       "version_major": 2,
       "version_minor": 0
      },
      "text/plain": [
       "  0%|          | 0/1745 [00:00<?, ?it/s]"
      ]
     },
     "metadata": {},
     "output_type": "display_data"
    },
    {
     "data": {
      "application/vnd.jupyter.widget-view+json": {
       "model_id": "de13b639d6c94bcdabf191ae6ece5612",
       "version_major": 2,
       "version_minor": 0
      },
      "text/plain": [
       "  0%|          | 0/1745 [00:00<?, ?it/s]"
      ]
     },
     "metadata": {},
     "output_type": "display_data"
    },
    {
     "data": {
      "application/vnd.jupyter.widget-view+json": {
       "model_id": "58000ef86b67495ea465b1a8a1ae13da",
       "version_major": 2,
       "version_minor": 0
      },
      "text/plain": [
       "  0%|          | 0/11411 [00:00<?, ?it/s]"
      ]
     },
     "metadata": {},
     "output_type": "display_data"
    },
    {
     "data": {
      "application/vnd.jupyter.widget-view+json": {
       "model_id": "518c19bb616c47adb70f68e27d67797e",
       "version_major": 2,
       "version_minor": 0
      },
      "text/plain": [
       "  0%|          | 0/2885 [00:00<?, ?it/s]"
      ]
     },
     "metadata": {},
     "output_type": "display_data"
    },
    {
     "data": {
      "application/vnd.jupyter.widget-view+json": {
       "model_id": "35687995f6bb41a38ced1ab980aa68dc",
       "version_major": 2,
       "version_minor": 0
      },
      "text/plain": [
       "  0%|          | 0/3332 [00:00<?, ?it/s]"
      ]
     },
     "metadata": {},
     "output_type": "display_data"
    },
    {
     "data": {
      "application/vnd.jupyter.widget-view+json": {
       "model_id": "5353903c66cc483a860fce3cbd366978",
       "version_major": 2,
       "version_minor": 0
      },
      "text/plain": [
       "  0%|          | 0/12330 [00:00<?, ?it/s]"
      ]
     },
     "metadata": {},
     "output_type": "display_data"
    },
    {
     "data": {
      "application/vnd.jupyter.widget-view+json": {
       "model_id": "155e2cb064664dd49fee4471172b56be",
       "version_major": 2,
       "version_minor": 0
      },
      "text/plain": [
       "  0%|          | 0/2287 [00:00<?, ?it/s]"
      ]
     },
     "metadata": {},
     "output_type": "display_data"
    },
    {
     "data": {
      "application/vnd.jupyter.widget-view+json": {
       "model_id": "a87db3fc8f0c4bb1a7549bded527ca90",
       "version_major": 2,
       "version_minor": 0
      },
      "text/plain": [
       "  0%|          | 0/3782 [00:00<?, ?it/s]"
      ]
     },
     "metadata": {},
     "output_type": "display_data"
    }
   ],
   "source": [
    "datasets = [\"risec\", \"japflow\", \"chemu\", \"mscorpus\"]\n",
    "\n",
    "dep_distances = []\n",
    "amr_distances = []\n",
    "\n",
    "\n",
    "for dataset in tqdm(datasets):\n",
    "    with open(f\"/projects/flow_graphs/data/{dataset}/data_amr.dill\", \"rb\") as f:\n",
    "        data = dill.load(f)\n",
    "\n",
    "\n",
    "    for split in [\"train\", \"dev\", \"test\"]:\n",
    "        instances = data[split][\"rels\"]\n",
    "        \n",
    "        for instance in tqdm(instances):\n",
    "            dep_distance = get_distance(instance[\"dep_data\"])\n",
    "            dep_distances.append({\n",
    "                \"dataset\": dataset,\n",
    "                \"split\": split,\n",
    "                \"distance\": dep_distance\n",
    "            })\n",
    "\n",
    "            amr_distance = get_distance(instance[\"amr_data\"])\n",
    "            if instance[\"amr_data\"].n1_mask.sum() > 0 and instance[\"amr_data\"].n2_mask.sum() > 0:\n",
    "                amr_distances.append({\n",
    "                    \"dataset\": dataset,\n",
    "                    \"split\": split,\n",
    "                    \"distance\": amr_distance\n",
    "                })\n",
    "    "
   ]
  },
  {
   "cell_type": "code",
   "execution_count": 75,
   "metadata": {},
   "outputs": [
    {
     "data": {
      "text/html": [
       "<div>\n",
       "<style scoped>\n",
       "    .dataframe tbody tr th:only-of-type {\n",
       "        vertical-align: middle;\n",
       "    }\n",
       "\n",
       "    .dataframe tbody tr th {\n",
       "        vertical-align: top;\n",
       "    }\n",
       "\n",
       "    .dataframe thead tr th {\n",
       "        text-align: left;\n",
       "    }\n",
       "\n",
       "    .dataframe thead tr:last-of-type th {\n",
       "        text-align: right;\n",
       "    }\n",
       "</style>\n",
       "<table border=\"1\" class=\"dataframe\">\n",
       "  <thead>\n",
       "    <tr>\n",
       "      <th></th>\n",
       "      <th></th>\n",
       "      <th colspan=\"2\" halign=\"left\">distance</th>\n",
       "    </tr>\n",
       "    <tr>\n",
       "      <th></th>\n",
       "      <th></th>\n",
       "      <th>mean</th>\n",
       "      <th>std</th>\n",
       "    </tr>\n",
       "    <tr>\n",
       "      <th>dataset</th>\n",
       "      <th>split</th>\n",
       "      <th></th>\n",
       "      <th></th>\n",
       "    </tr>\n",
       "  </thead>\n",
       "  <tbody>\n",
       "    <tr>\n",
       "      <th rowspan=\"3\" valign=\"top\">chemu</th>\n",
       "      <th>dev</th>\n",
       "      <td>3.092548</td>\n",
       "      <td>1.332706</td>\n",
       "    </tr>\n",
       "    <tr>\n",
       "      <th>test</th>\n",
       "      <td>3.056122</td>\n",
       "      <td>1.385964</td>\n",
       "    </tr>\n",
       "    <tr>\n",
       "      <th>train</th>\n",
       "      <td>3.060643</td>\n",
       "      <td>1.362643</td>\n",
       "    </tr>\n",
       "    <tr>\n",
       "      <th rowspan=\"3\" valign=\"top\">japflow</th>\n",
       "      <th>dev</th>\n",
       "      <td>3.207450</td>\n",
       "      <td>1.860210</td>\n",
       "    </tr>\n",
       "    <tr>\n",
       "      <th>test</th>\n",
       "      <td>3.273352</td>\n",
       "      <td>1.952799</td>\n",
       "    </tr>\n",
       "    <tr>\n",
       "      <th>train</th>\n",
       "      <td>3.236137</td>\n",
       "      <td>1.890225</td>\n",
       "    </tr>\n",
       "    <tr>\n",
       "      <th rowspan=\"3\" valign=\"top\">mscorpus</th>\n",
       "      <th>dev</th>\n",
       "      <td>2.804985</td>\n",
       "      <td>1.352394</td>\n",
       "    </tr>\n",
       "    <tr>\n",
       "      <th>test</th>\n",
       "      <td>2.812797</td>\n",
       "      <td>1.425340</td>\n",
       "    </tr>\n",
       "    <tr>\n",
       "      <th>train</th>\n",
       "      <td>2.824574</td>\n",
       "      <td>1.444335</td>\n",
       "    </tr>\n",
       "    <tr>\n",
       "      <th rowspan=\"3\" valign=\"top\">risec</th>\n",
       "      <th>dev</th>\n",
       "      <td>2.746004</td>\n",
       "      <td>1.229099</td>\n",
       "    </tr>\n",
       "    <tr>\n",
       "      <th>test</th>\n",
       "      <td>2.754632</td>\n",
       "      <td>1.201597</td>\n",
       "    </tr>\n",
       "    <tr>\n",
       "      <th>train</th>\n",
       "      <td>2.723231</td>\n",
       "      <td>1.191576</td>\n",
       "    </tr>\n",
       "  </tbody>\n",
       "</table>\n",
       "</div>"
      ],
      "text/plain": [
       "                distance          \n",
       "                    mean       std\n",
       "dataset  split                    \n",
       "chemu    dev    3.092548  1.332706\n",
       "         test   3.056122  1.385964\n",
       "         train  3.060643  1.362643\n",
       "japflow  dev    3.207450  1.860210\n",
       "         test   3.273352  1.952799\n",
       "         train  3.236137  1.890225\n",
       "mscorpus dev    2.804985  1.352394\n",
       "         test   2.812797  1.425340\n",
       "         train  2.824574  1.444335\n",
       "risec    dev    2.746004  1.229099\n",
       "         test   2.754632  1.201597\n",
       "         train  2.723231  1.191576"
      ]
     },
     "execution_count": 75,
     "metadata": {},
     "output_type": "execute_result"
    }
   ],
   "source": [
    "pd.DataFrame(dep_distances).groupby([\"dataset\", \"split\"]).aggregate([\"mean\", \"std\"])"
   ]
  },
  {
   "cell_type": "code",
   "execution_count": 76,
   "metadata": {},
   "outputs": [
    {
     "data": {
      "text/html": [
       "<div>\n",
       "<style scoped>\n",
       "    .dataframe tbody tr th:only-of-type {\n",
       "        vertical-align: middle;\n",
       "    }\n",
       "\n",
       "    .dataframe tbody tr th {\n",
       "        vertical-align: top;\n",
       "    }\n",
       "\n",
       "    .dataframe thead tr th {\n",
       "        text-align: left;\n",
       "    }\n",
       "\n",
       "    .dataframe thead tr:last-of-type th {\n",
       "        text-align: right;\n",
       "    }\n",
       "</style>\n",
       "<table border=\"1\" class=\"dataframe\">\n",
       "  <thead>\n",
       "    <tr>\n",
       "      <th></th>\n",
       "      <th></th>\n",
       "      <th colspan=\"2\" halign=\"left\">distance</th>\n",
       "    </tr>\n",
       "    <tr>\n",
       "      <th></th>\n",
       "      <th></th>\n",
       "      <th>mean</th>\n",
       "      <th>std</th>\n",
       "    </tr>\n",
       "    <tr>\n",
       "      <th>dataset</th>\n",
       "      <th>split</th>\n",
       "      <th></th>\n",
       "      <th></th>\n",
       "    </tr>\n",
       "  </thead>\n",
       "  <tbody>\n",
       "    <tr>\n",
       "      <th rowspan=\"3\" valign=\"top\">chemu</th>\n",
       "      <th>dev</th>\n",
       "      <td>3.396344</td>\n",
       "      <td>2.350579</td>\n",
       "    </tr>\n",
       "    <tr>\n",
       "      <th>test</th>\n",
       "      <td>3.577506</td>\n",
       "      <td>2.268459</td>\n",
       "    </tr>\n",
       "    <tr>\n",
       "      <th>train</th>\n",
       "      <td>3.402605</td>\n",
       "      <td>2.250643</td>\n",
       "    </tr>\n",
       "    <tr>\n",
       "      <th rowspan=\"3\" valign=\"top\">japflow</th>\n",
       "      <th>dev</th>\n",
       "      <td>1.366268</td>\n",
       "      <td>0.990138</td>\n",
       "    </tr>\n",
       "    <tr>\n",
       "      <th>test</th>\n",
       "      <td>1.374060</td>\n",
       "      <td>1.015147</td>\n",
       "    </tr>\n",
       "    <tr>\n",
       "      <th>train</th>\n",
       "      <td>1.367777</td>\n",
       "      <td>0.999671</td>\n",
       "    </tr>\n",
       "    <tr>\n",
       "      <th rowspan=\"3\" valign=\"top\">mscorpus</th>\n",
       "      <th>dev</th>\n",
       "      <td>3.028523</td>\n",
       "      <td>2.083688</td>\n",
       "    </tr>\n",
       "    <tr>\n",
       "      <th>test</th>\n",
       "      <td>2.845283</td>\n",
       "      <td>2.047945</td>\n",
       "    </tr>\n",
       "    <tr>\n",
       "      <th>train</th>\n",
       "      <td>2.912596</td>\n",
       "      <td>2.084232</td>\n",
       "    </tr>\n",
       "    <tr>\n",
       "      <th rowspan=\"3\" valign=\"top\">risec</th>\n",
       "      <th>dev</th>\n",
       "      <td>2.750192</td>\n",
       "      <td>0.829185</td>\n",
       "    </tr>\n",
       "    <tr>\n",
       "      <th>test</th>\n",
       "      <td>2.742467</td>\n",
       "      <td>0.806803</td>\n",
       "    </tr>\n",
       "    <tr>\n",
       "      <th>train</th>\n",
       "      <td>2.704676</td>\n",
       "      <td>0.787300</td>\n",
       "    </tr>\n",
       "  </tbody>\n",
       "</table>\n",
       "</div>"
      ],
      "text/plain": [
       "                distance          \n",
       "                    mean       std\n",
       "dataset  split                    \n",
       "chemu    dev    3.396344  2.350579\n",
       "         test   3.577506  2.268459\n",
       "         train  3.402605  2.250643\n",
       "japflow  dev    1.366268  0.990138\n",
       "         test   1.374060  1.015147\n",
       "         train  1.367777  0.999671\n",
       "mscorpus dev    3.028523  2.083688\n",
       "         test   2.845283  2.047945\n",
       "         train  2.912596  2.084232\n",
       "risec    dev    2.750192  0.829185\n",
       "         test   2.742467  0.806803\n",
       "         train  2.704676  0.787300"
      ]
     },
     "execution_count": 76,
     "metadata": {},
     "output_type": "execute_result"
    }
   ],
   "source": [
    "pd.DataFrame(amr_distances).groupby([\"dataset\", \"split\"]).aggregate([\"mean\", \"std\"])"
   ]
  },
  {
   "cell_type": "code",
   "execution_count": null,
   "metadata": {},
   "outputs": [],
   "source": []
  }
 ],
 "metadata": {
  "kernelspec": {
   "display_name": "Python 3.7.13 ('amr')",
   "language": "python",
   "name": "python3"
  },
  "language_info": {
   "codemirror_mode": {
    "name": "ipython",
    "version": 3
   },
   "file_extension": ".py",
   "mimetype": "text/x-python",
   "name": "python",
   "nbconvert_exporter": "python",
   "pygments_lexer": "ipython3",
   "version": "3.7.13"
  },
  "orig_nbformat": 4,
  "vscode": {
   "interpreter": {
    "hash": "6704d32e6c0a7cb18c31e26ad2d6dc79eb49d8ba9199dbba6bc9f1d50c5263da"
   }
  }
 },
 "nbformat": 4,
 "nbformat_minor": 2
}
