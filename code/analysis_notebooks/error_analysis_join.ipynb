{
 "cells": [
  {
   "cell_type": "code",
   "execution_count": 2,
   "metadata": {},
   "outputs": [
    {
     "name": "stdout",
     "output_type": "stream",
     "text": [
      "The history saving thread hit an unexpected error (OperationalError('unable to open database file')).History will not be written to the database.\n"
     ]
    }
   ],
   "source": [
    "import numpy as np\n",
    "import pandas as pd\n",
    "from sklearn.metrics import ConfusionMatrixDisplay, f1_score"
   ]
  },
  {
   "cell_type": "code",
   "execution_count": 4,
   "metadata": {},
   "outputs": [
    {
     "data": {
      "text/html": [
       "<div>\n",
       "<style scoped>\n",
       "    .dataframe tbody tr th:only-of-type {\n",
       "        vertical-align: middle;\n",
       "    }\n",
       "\n",
       "    .dataframe tbody tr th {\n",
       "        vertical-align: top;\n",
       "    }\n",
       "\n",
       "    .dataframe thead th {\n",
       "        text-align: right;\n",
       "    }\n",
       "</style>\n",
       "<table border=\"1\" class=\"dataframe\">\n",
       "  <thead>\n",
       "    <tr style=\"text-align: right;\">\n",
       "      <th></th>\n",
       "      <th>Unnamed: 0</th>\n",
       "      <th>ent1_name</th>\n",
       "      <th>ent2_name</th>\n",
       "      <th>ent1_start</th>\n",
       "      <th>ent2_start</th>\n",
       "      <th>ent1_end</th>\n",
       "      <th>ent2_end</th>\n",
       "      <th>ent1_amr</th>\n",
       "      <th>ent2_amr</th>\n",
       "      <th>sent</th>\n",
       "      <th>labels</th>\n",
       "      <th>predictions</th>\n",
       "    </tr>\n",
       "  </thead>\n",
       "  <tbody>\n",
       "    <tr>\n",
       "      <th>0</th>\n",
       "      <td>0</td>\n",
       "      <td>cut</td>\n",
       "      <td>chicken breasts</td>\n",
       "      <td>3</td>\n",
       "      <td>7</td>\n",
       "      <td>6</td>\n",
       "      <td>22</td>\n",
       "      <td>1</td>\n",
       "      <td>2</td>\n",
       "      <td>1) Cut chicken breasts into 1 inch strips.</td>\n",
       "      <td>Arg_PPT</td>\n",
       "      <td>Arg_DIR</td>\n",
       "    </tr>\n",
       "    <tr>\n",
       "      <th>1</th>\n",
       "      <td>1</td>\n",
       "      <td>cut</td>\n",
       "      <td>1 inch strips</td>\n",
       "      <td>3</td>\n",
       "      <td>28</td>\n",
       "      <td>6</td>\n",
       "      <td>41</td>\n",
       "      <td>1</td>\n",
       "      <td>3</td>\n",
       "      <td>1) Cut chicken breasts into 1 inch strips.\\n2)...</td>\n",
       "      <td>Arg_PRD</td>\n",
       "      <td>Arg_PRD</td>\n",
       "    </tr>\n",
       "    <tr>\n",
       "      <th>2</th>\n",
       "      <td>2</td>\n",
       "      <td>place</td>\n",
       "      <td>cut</td>\n",
       "      <td>46</td>\n",
       "      <td>3</td>\n",
       "      <td>51</td>\n",
       "      <td>6</td>\n",
       "      <td>2</td>\n",
       "      <td>1</td>\n",
       "      <td>1) Cut chicken breasts into 1 inch strips.\\n2)...</td>\n",
       "      <td>Arg_PPT</td>\n",
       "      <td>ArgM_SIM</td>\n",
       "    </tr>\n",
       "    <tr>\n",
       "      <th>3</th>\n",
       "      <td>3</td>\n",
       "      <td>place</td>\n",
       "      <td>a medium bowl</td>\n",
       "      <td>4</td>\n",
       "      <td>13</td>\n",
       "      <td>9</td>\n",
       "      <td>26</td>\n",
       "      <td>1</td>\n",
       "      <td>2</td>\n",
       "      <td>\\n2) Place in a medium bowl with desired marin...</td>\n",
       "      <td>Arg_GOL</td>\n",
       "      <td>Arg_PRD</td>\n",
       "    </tr>\n",
       "    <tr>\n",
       "      <th>4</th>\n",
       "      <td>4</td>\n",
       "      <td>marinate</td>\n",
       "      <td>place</td>\n",
       "      <td>54</td>\n",
       "      <td>4</td>\n",
       "      <td>62</td>\n",
       "      <td>9</td>\n",
       "      <td>1</td>\n",
       "      <td>1</td>\n",
       "      <td>\\n2) Place in a medium bowl with desired marin...</td>\n",
       "      <td>Arg_PPT</td>\n",
       "      <td>Arg_PAG</td>\n",
       "    </tr>\n",
       "    <tr>\n",
       "      <th>5</th>\n",
       "      <td>5</td>\n",
       "      <td>marinate</td>\n",
       "      <td>the refrigerator</td>\n",
       "      <td>54</td>\n",
       "      <td>66</td>\n",
       "      <td>62</td>\n",
       "      <td>82</td>\n",
       "      <td>1</td>\n",
       "      <td>1</td>\n",
       "      <td>\\n2) Place in a medium bowl with desired marin...</td>\n",
       "      <td>ArgM_LOC</td>\n",
       "      <td>ArgM_LOC</td>\n",
       "    </tr>\n",
       "    <tr>\n",
       "      <th>6</th>\n",
       "      <td>6</td>\n",
       "      <td>marinate</td>\n",
       "      <td>at least 30 minutes</td>\n",
       "      <td>54</td>\n",
       "      <td>87</td>\n",
       "      <td>62</td>\n",
       "      <td>106</td>\n",
       "      <td>1</td>\n",
       "      <td>3</td>\n",
       "      <td>\\n2) Place in a medium bowl with desired marin...</td>\n",
       "      <td>ArgM_TMP</td>\n",
       "      <td>ArgM_MNR</td>\n",
       "    </tr>\n",
       "    <tr>\n",
       "      <th>7</th>\n",
       "      <td>7</td>\n",
       "      <td>preheat</td>\n",
       "      <td>oven</td>\n",
       "      <td>4</td>\n",
       "      <td>12</td>\n",
       "      <td>11</td>\n",
       "      <td>16</td>\n",
       "      <td>1</td>\n",
       "      <td>1</td>\n",
       "      <td>\\n3) Preheat oven to 350 degrees F (175 degree...</td>\n",
       "      <td>Arg_PPT</td>\n",
       "      <td>ArgM_LOC</td>\n",
       "    </tr>\n",
       "    <tr>\n",
       "      <th>8</th>\n",
       "      <td>8</td>\n",
       "      <td>preheat</td>\n",
       "      <td>350 degrees f</td>\n",
       "      <td>4</td>\n",
       "      <td>20</td>\n",
       "      <td>11</td>\n",
       "      <td>33</td>\n",
       "      <td>1</td>\n",
       "      <td>1</td>\n",
       "      <td>\\n3) Preheat oven to 350 degrees F (175 degree...</td>\n",
       "      <td>ArgM_MNR</td>\n",
       "      <td>Arg_GOL</td>\n",
       "    </tr>\n",
       "    <tr>\n",
       "      <th>9</th>\n",
       "      <td>9</td>\n",
       "      <td>preheat</td>\n",
       "      <td>175 degrees c</td>\n",
       "      <td>4</td>\n",
       "      <td>35</td>\n",
       "      <td>11</td>\n",
       "      <td>48</td>\n",
       "      <td>1</td>\n",
       "      <td>0</td>\n",
       "      <td>\\n3) Preheat oven to 350 degrees F (175 degree...</td>\n",
       "      <td>ArgM_MNR</td>\n",
       "      <td>Arg_GOL</td>\n",
       "    </tr>\n",
       "  </tbody>\n",
       "</table>\n",
       "</div>"
      ],
      "text/plain": [
       "   Unnamed: 0 ent1_name            ent2_name  ent1_start  ent2_start  \\\n",
       "0           0       cut      chicken breasts           3           7   \n",
       "1           1       cut        1 inch strips           3          28   \n",
       "2           2     place                  cut          46           3   \n",
       "3           3     place        a medium bowl           4          13   \n",
       "4           4  marinate                place          54           4   \n",
       "5           5  marinate     the refrigerator          54          66   \n",
       "6           6  marinate  at least 30 minutes          54          87   \n",
       "7           7   preheat                 oven           4          12   \n",
       "8           8   preheat        350 degrees f           4          20   \n",
       "9           9   preheat        175 degrees c           4          35   \n",
       "\n",
       "   ent1_end  ent2_end  ent1_amr  ent2_amr  \\\n",
       "0         6        22         1         2   \n",
       "1         6        41         1         3   \n",
       "2        51         6         2         1   \n",
       "3         9        26         1         2   \n",
       "4        62         9         1         1   \n",
       "5        62        82         1         1   \n",
       "6        62       106         1         3   \n",
       "7        11        16         1         1   \n",
       "8        11        33         1         1   \n",
       "9        11        48         1         0   \n",
       "\n",
       "                                                sent    labels predictions  \n",
       "0         1) Cut chicken breasts into 1 inch strips.   Arg_PPT     Arg_DIR  \n",
       "1  1) Cut chicken breasts into 1 inch strips.\\n2)...   Arg_PRD     Arg_PRD  \n",
       "2  1) Cut chicken breasts into 1 inch strips.\\n2)...   Arg_PPT    ArgM_SIM  \n",
       "3  \\n2) Place in a medium bowl with desired marin...   Arg_GOL     Arg_PRD  \n",
       "4  \\n2) Place in a medium bowl with desired marin...   Arg_PPT     Arg_PAG  \n",
       "5  \\n2) Place in a medium bowl with desired marin...  ArgM_LOC    ArgM_LOC  \n",
       "6  \\n2) Place in a medium bowl with desired marin...  ArgM_TMP    ArgM_MNR  \n",
       "7  \\n3) Preheat oven to 350 degrees F (175 degree...   Arg_PPT    ArgM_LOC  \n",
       "8  \\n3) Preheat oven to 350 degrees F (175 degree...  ArgM_MNR     Arg_GOL  \n",
       "9  \\n3) Preheat oven to 350 degrees F (175 degree...  ArgM_MNR     Arg_GOL  "
      ]
     },
     "execution_count": 4,
     "metadata": {},
     "output_type": "execute_result"
    }
   ],
   "source": [
    "with open(\"results/transfer_results_test_mscorpus_risec_1_0_amr_residual.csv\") as f:\n",
    "    results_df = pd.read_csv(f)\n",
    "\n",
    "results_df.head(10)"
   ]
  },
  {
   "cell_type": "code",
   "execution_count": 5,
   "metadata": {},
   "outputs": [
    {
     "data": {
      "text/plain": [
       "(2213, 12)"
      ]
     },
     "execution_count": 5,
     "metadata": {},
     "output_type": "execute_result"
    }
   ],
   "source": [
    "results_df.shape"
   ]
  },
  {
   "cell_type": "code",
   "execution_count": 6,
   "metadata": {},
   "outputs": [],
   "source": [
    "e1_present = results_df[\"ent1_amr\"].astype(bool)\n",
    "e2_present = results_df[\"ent2_amr\"].astype(bool)\n",
    "either_present = e1_present | e2_present\n",
    "both_present = e1_present & e2_present\n",
    "neither_present = (~e1_present) & (~e2_present)"
   ]
  },
  {
   "cell_type": "code",
   "execution_count": 7,
   "metadata": {},
   "outputs": [
    {
     "data": {
      "text/plain": [
       "1    2213\n",
       "dtype: int64"
      ]
     },
     "execution_count": 7,
     "metadata": {},
     "output_type": "execute_result"
    }
   ],
   "source": [
    "(e1_present.astype(int) + e2_present.astype(int) - both_present.astype(int) + neither_present.astype(int)).value_counts()"
   ]
  },
  {
   "cell_type": "code",
   "execution_count": 8,
   "metadata": {},
   "outputs": [
    {
     "data": {
      "text/plain": [
       "0.8621780388612743"
      ]
     },
     "execution_count": 8,
     "metadata": {},
     "output_type": "execute_result"
    }
   ],
   "source": [
    "results_df[\"ent2_amr\"].astype(bool).mean()"
   ]
  },
  {
   "cell_type": "code",
   "execution_count": 9,
   "metadata": {},
   "outputs": [
    {
     "data": {
      "text/plain": [
       "0.7948486217803886"
      ]
     },
     "execution_count": 9,
     "metadata": {},
     "output_type": "execute_result"
    }
   ],
   "source": [
    "(results_df[\"ent1_amr\"].astype(bool) & results_df[\"ent2_amr\"].astype(bool)).mean()"
   ]
  },
  {
   "cell_type": "code",
   "execution_count": 11,
   "metadata": {},
   "outputs": [
    {
     "data": {
      "text/plain": [
       "0.2054347166519215"
      ]
     },
     "execution_count": 11,
     "metadata": {},
     "output_type": "execute_result"
    }
   ],
   "source": [
    "f1_score(results_df[\"labels\"], results_df[\"predictions\"], average=\"macro\")"
   ]
  },
  {
   "cell_type": "code",
   "execution_count": 12,
   "metadata": {},
   "outputs": [
    {
     "data": {
      "text/plain": [
       "0.13711432126724804"
      ]
     },
     "execution_count": 12,
     "metadata": {},
     "output_type": "execute_result"
    }
   ],
   "source": [
    "f1_score(results_df[neither_present][\"labels\"], results_df[neither_present][\"predictions\"], average=\"macro\")"
   ]
  },
  {
   "cell_type": "code",
   "execution_count": 13,
   "metadata": {},
   "outputs": [
    {
     "data": {
      "text/plain": [
       "0.20820758093531586"
      ]
     },
     "execution_count": 13,
     "metadata": {},
     "output_type": "execute_result"
    }
   ],
   "source": [
    "f1_score(results_df[both_present][\"labels\"], results_df[both_present][\"predictions\"], average=\"macro\")"
   ]
  },
  {
   "cell_type": "code",
   "execution_count": 17,
   "metadata": {},
   "outputs": [
    {
     "data": {
      "text/plain": [
       "<sklearn.metrics._plot.confusion_matrix.ConfusionMatrixDisplay at 0x7f460c1a2390>"
      ]
     },
     "execution_count": 17,
     "metadata": {},
     "output_type": "execute_result"
    },
    {
     "data": {
      "image/png": "[encoded data removed]",
      "text/plain": [
       "<Figure size 432x288 with 2 Axes>"
      ]
     },
     "metadata": {
      "needs_background": "light"
     },
     "output_type": "display_data"
    }
   ],
   "source": [
    "\n",
    "ConfusionMatrixDisplay.from_predictions(results_df[both_present][\"labels\"], results_df[both_present][\"predictions\"], xticks_rotation=\"vertical\")\n"
   ]
  },
  {
   "cell_type": "code",
   "execution_count": 18,
   "metadata": {},
   "outputs": [
    {
     "data": {
      "text/plain": [
       "Arg_PPT     1368\n",
       "ArgM_TMP     237\n",
       "Arg_GOL      199\n",
       "ArgM_LOC     151\n",
       "ArgM_MNR     116\n",
       "ArgM_PRP      44\n",
       "Arg_DIR       29\n",
       "ArgM_INT      23\n",
       "ArgM_SIM      21\n",
       "Arg_PRD       17\n",
       "Arg_PAG        8\n",
       "Name: labels, dtype: int64"
      ]
     },
     "execution_count": 18,
     "metadata": {},
     "output_type": "execute_result"
    }
   ],
   "source": [
    "results_df[\"labels\"].value_counts()"
   ]
  },
  {
   "cell_type": "code",
   "execution_count": 20,
   "metadata": {},
   "outputs": [
    {
     "data": {
      "text/plain": [
       "<sklearn.metrics._plot.confusion_matrix.ConfusionMatrixDisplay at 0x7f460957c150>"
      ]
     },
     "execution_count": 20,
     "metadata": {},
     "output_type": "execute_result"
    },
    {
     "data": {
      "image/png": "[encoded data removed]",
      "text/plain": [
       "<Figure size 432x288 with 2 Axes>"
      ]
     },
     "metadata": {
      "needs_background": "light"
     },
     "output_type": "display_data"
    }
   ],
   "source": [
    "ConfusionMatrixDisplay.from_predictions(results_df[neither_present][\"labels\"], results_df[neither_present][\"predictions\"], xticks_rotation=\"vertical\")\n"
   ]
  },
  {
   "cell_type": "code",
   "execution_count": 21,
   "metadata": {},
   "outputs": [
    {
     "data": {
      "text/plain": [
       "0.29778581111613195"
      ]
     },
     "execution_count": 21,
     "metadata": {},
     "output_type": "execute_result"
    }
   ],
   "source": [
    "f1_score(results_df[\"labels\"], results_df[\"predictions\"], average=\"micro\")"
   ]
  },
  {
   "cell_type": "code",
   "execution_count": 22,
   "metadata": {},
   "outputs": [],
   "source": [
    "labels = sorted(results_df[\"labels\"].unique())"
   ]
  },
  {
   "cell_type": "code",
   "execution_count": 23,
   "metadata": {},
   "outputs": [
    {
     "data": {
      "text/plain": [
       "[('ArgM_INT', 0.0625),\n",
       " ('ArgM_LOC', 0.25),\n",
       " ('ArgM_MNR', 0.504950495049505),\n",
       " ('ArgM_PRP', 0.1818181818181818),\n",
       " ('ArgM_SIM', 0.11307420494699646),\n",
       " ('ArgM_TMP', 0.3132530120481928),\n",
       " ('Arg_DIR', 0.1798941798941799),\n",
       " ('Arg_GOL', 0.04810996563573883),\n",
       " ('Arg_PAG', 0.125),\n",
       " ('Arg_PPT', 0.49726027397260275),\n",
       " ('Arg_PRD', 0.014423076923076924)]"
      ]
     },
     "execution_count": 23,
     "metadata": {},
     "output_type": "execute_result"
    }
   ],
   "source": [
    "list(zip(labels, f1_score(results_df[both_present][\"labels\"], results_df[both_present][\"predictions\"], average=None)))"
   ]
  },
  {
   "cell_type": "code",
   "execution_count": 24,
   "metadata": {},
   "outputs": [
    {
     "data": {
      "text/plain": [
       "[('ArgM_INT', 0.057142857142857134),\n",
       " ('ArgM_LOC', 0.24260355029585795),\n",
       " ('ArgM_MNR', 0.5454545454545454),\n",
       " ('ArgM_PRP', 0.16326530612244897),\n",
       " ('ArgM_SIM', 0.09944751381215469),\n",
       " ('ArgM_TMP', 0.3082706766917293),\n",
       " ('Arg_DIR', 0.20909090909090908),\n",
       " ('Arg_GOL', 0.06722689075630252),\n",
       " ('Arg_PAG', 0.13793103448275865),\n",
       " ('Arg_PPT', 0.47215496368038745),\n",
       " ('Arg_PRD', 0.01282051282051282)]"
      ]
     },
     "execution_count": 24,
     "metadata": {},
     "output_type": "execute_result"
    }
   ],
   "source": [
    "list(zip(labels, f1_score(results_df[either_present][\"labels\"], results_df[either_present][\"predictions\"], average=None)))"
   ]
  },
  {
   "cell_type": "code",
   "execution_count": 25,
   "metadata": {},
   "outputs": [
    {
     "data": {
      "text/plain": [
       "[('ArgM_INT', 0.0),\n",
       " ('ArgM_LOC', 0.1111111111111111),\n",
       " ('ArgM_MNR', 0.5333333333333333),\n",
       " ('ArgM_PRP', 0.0),\n",
       " ('ArgM_TMP', 0.0),\n",
       " ('Arg_DIR', 0.10526315789473684),\n",
       " ('Arg_GOL', 0.23529411764705882),\n",
       " ('Arg_PPT', 0.0)]"
      ]
     },
     "execution_count": 25,
     "metadata": {},
     "output_type": "execute_result"
    }
   ],
   "source": [
    "list(zip(sorted(results_df[neither_present][\"labels\"].unique()), f1_score(results_df[neither_present][\"labels\"], results_df[neither_present][\"predictions\"], average=None)))"
   ]
  },
  {
   "cell_type": "code",
   "execution_count": 26,
   "metadata": {},
   "outputs": [
    {
     "data": {
      "text/plain": [
       "Arg_PPT     1368\n",
       "ArgM_TMP     237\n",
       "Arg_GOL      199\n",
       "ArgM_LOC     151\n",
       "ArgM_MNR     116\n",
       "ArgM_PRP      44\n",
       "Arg_DIR       29\n",
       "ArgM_INT      23\n",
       "ArgM_SIM      21\n",
       "Arg_PRD       17\n",
       "Arg_PAG        8\n",
       "Name: labels, dtype: int64"
      ]
     },
     "execution_count": 26,
     "metadata": {},
     "output_type": "execute_result"
    }
   ],
   "source": [
    "results_df[\"labels\"].value_counts()"
   ]
  },
  {
   "cell_type": "code",
   "execution_count": 27,
   "metadata": {},
   "outputs": [
    {
     "data": {
      "text/plain": [
       "0.28804347826086957"
      ]
     },
     "execution_count": 27,
     "metadata": {},
     "output_type": "execute_result"
    }
   ],
   "source": [
    "f1_score(results_df[neither_present][\"labels\"], results_df[neither_present][\"predictions\"], average=\"micro\")"
   ]
  },
  {
   "cell_type": "code",
   "execution_count": 28,
   "metadata": {},
   "outputs": [
    {
     "data": {
      "text/plain": [
       "0.29866929521931984"
      ]
     },
     "execution_count": 28,
     "metadata": {},
     "output_type": "execute_result"
    }
   ],
   "source": [
    "f1_score(results_df[either_present][\"labels\"], results_df[either_present][\"predictions\"], average=\"micro\")"
   ]
  },
  {
   "cell_type": "code",
   "execution_count": 29,
   "metadata": {},
   "outputs": [
    {
     "data": {
      "text/plain": [
       "0.30812961910176234"
      ]
     },
     "execution_count": 29,
     "metadata": {},
     "output_type": "execute_result"
    }
   ],
   "source": [
    "f1_score(results_df[both_present][\"labels\"], results_df[both_present][\"predictions\"], average=\"micro\")"
   ]
  },
  {
   "cell_type": "code",
   "execution_count": null,
   "metadata": {},
   "outputs": [],
   "source": []
  }
 ],
 "metadata": {
  "kernelspec": {
   "display_name": "Python 3.7.13 ('amr2')",
   "language": "python",
   "name": "python3"
  },
  "language_info": {
   "codemirror_mode": {
    "name": "ipython",
    "version": 3
   },
   "file_extension": ".py",
   "mimetype": "text/x-python",
   "name": "python",
   "nbconvert_exporter": "python",
   "pygments_lexer": "ipython3",
   "version": "3.7.13"
  },
  "orig_nbformat": 4,
  "vscode": {
   "interpreter": {
    "hash": "aa6125668c898f1b71ffc1f214528a842df47e43f39f25f123e266e2c64fa563"
   }
  }
 },
 "nbformat": 4,
 "nbformat_minor": 2
}
